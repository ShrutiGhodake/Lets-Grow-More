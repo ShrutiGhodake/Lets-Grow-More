{
  "nbformat": 4,
  "nbformat_minor": 0,
  "metadata": {
    "colab": {
      "provenance": []
    },
    "kernelspec": {
      "name": "python3",
      "display_name": "Python 3"
    },
    "language_info": {
      "name": "python"
    }
  },
  "cells": [
    {
      "cell_type": "code",
      "source": [
        "##keras and tensorflow"
      ],
      "metadata": {
        "id": "bv6v5bMaMGXg"
      },
      "execution_count": null,
      "outputs": []
    },
    {
      "cell_type": "code",
      "source": [
        "import pandas as pd"
      ],
      "metadata": {
        "id": "Dj7MUkNdML8-"
      },
      "execution_count": null,
      "outputs": []
    },
    {
      "cell_type": "code",
      "source": [
        "df=pd.read_csv(\"https://raw.githubusercontent.com/mwitiderrick/stockprice/master/NSE-TATAGLOBAL.csv\")\n",
        "df.head()"
      ],
      "metadata": {
        "colab": {
          "base_uri": "https://localhost:8080/",
          "height": 206
        },
        "id": "3uwfwCvbKgSw",
        "outputId": "62fd3953-b3ce-446d-a1f8-d3e5fc2fcc7a"
      },
      "execution_count": null,
      "outputs": [
        {
          "output_type": "execute_result",
          "data": {
            "text/plain": [
              "         Date    Open    High     Low    Last   Close  Total Trade Quantity  \\\n",
              "0  2018-09-28  234.05  235.95  230.20  233.50  233.75               3069914   \n",
              "1  2018-09-27  234.55  236.80  231.10  233.80  233.25               5082859   \n",
              "2  2018-09-26  240.00  240.00  232.50  235.00  234.25               2240909   \n",
              "3  2018-09-25  233.30  236.75  232.00  236.25  236.10               2349368   \n",
              "4  2018-09-24  233.55  239.20  230.75  234.00  233.30               3423509   \n",
              "\n",
              "   Turnover (Lacs)  \n",
              "0          7162.35  \n",
              "1         11859.95  \n",
              "2          5248.60  \n",
              "3          5503.90  \n",
              "4          7999.55  "
            ],
            "text/html": [
              "\n",
              "  <div id=\"df-960506fb-984c-44e1-87a4-2c08509a5477\">\n",
              "    <div class=\"colab-df-container\">\n",
              "      <div>\n",
              "<style scoped>\n",
              "    .dataframe tbody tr th:only-of-type {\n",
              "        vertical-align: middle;\n",
              "    }\n",
              "\n",
              "    .dataframe tbody tr th {\n",
              "        vertical-align: top;\n",
              "    }\n",
              "\n",
              "    .dataframe thead th {\n",
              "        text-align: right;\n",
              "    }\n",
              "</style>\n",
              "<table border=\"1\" class=\"dataframe\">\n",
              "  <thead>\n",
              "    <tr style=\"text-align: right;\">\n",
              "      <th></th>\n",
              "      <th>Date</th>\n",
              "      <th>Open</th>\n",
              "      <th>High</th>\n",
              "      <th>Low</th>\n",
              "      <th>Last</th>\n",
              "      <th>Close</th>\n",
              "      <th>Total Trade Quantity</th>\n",
              "      <th>Turnover (Lacs)</th>\n",
              "    </tr>\n",
              "  </thead>\n",
              "  <tbody>\n",
              "    <tr>\n",
              "      <th>0</th>\n",
              "      <td>2018-09-28</td>\n",
              "      <td>234.05</td>\n",
              "      <td>235.95</td>\n",
              "      <td>230.20</td>\n",
              "      <td>233.50</td>\n",
              "      <td>233.75</td>\n",
              "      <td>3069914</td>\n",
              "      <td>7162.35</td>\n",
              "    </tr>\n",
              "    <tr>\n",
              "      <th>1</th>\n",
              "      <td>2018-09-27</td>\n",
              "      <td>234.55</td>\n",
              "      <td>236.80</td>\n",
              "      <td>231.10</td>\n",
              "      <td>233.80</td>\n",
              "      <td>233.25</td>\n",
              "      <td>5082859</td>\n",
              "      <td>11859.95</td>\n",
              "    </tr>\n",
              "    <tr>\n",
              "      <th>2</th>\n",
              "      <td>2018-09-26</td>\n",
              "      <td>240.00</td>\n",
              "      <td>240.00</td>\n",
              "      <td>232.50</td>\n",
              "      <td>235.00</td>\n",
              "      <td>234.25</td>\n",
              "      <td>2240909</td>\n",
              "      <td>5248.60</td>\n",
              "    </tr>\n",
              "    <tr>\n",
              "      <th>3</th>\n",
              "      <td>2018-09-25</td>\n",
              "      <td>233.30</td>\n",
              "      <td>236.75</td>\n",
              "      <td>232.00</td>\n",
              "      <td>236.25</td>\n",
              "      <td>236.10</td>\n",
              "      <td>2349368</td>\n",
              "      <td>5503.90</td>\n",
              "    </tr>\n",
              "    <tr>\n",
              "      <th>4</th>\n",
              "      <td>2018-09-24</td>\n",
              "      <td>233.55</td>\n",
              "      <td>239.20</td>\n",
              "      <td>230.75</td>\n",
              "      <td>234.00</td>\n",
              "      <td>233.30</td>\n",
              "      <td>3423509</td>\n",
              "      <td>7999.55</td>\n",
              "    </tr>\n",
              "  </tbody>\n",
              "</table>\n",
              "</div>\n",
              "      <button class=\"colab-df-convert\" onclick=\"convertToInteractive('df-960506fb-984c-44e1-87a4-2c08509a5477')\"\n",
              "              title=\"Convert this dataframe to an interactive table.\"\n",
              "              style=\"display:none;\">\n",
              "        \n",
              "  <svg xmlns=\"http://www.w3.org/2000/svg\" height=\"24px\"viewBox=\"0 0 24 24\"\n",
              "       width=\"24px\">\n",
              "    <path d=\"M0 0h24v24H0V0z\" fill=\"none\"/>\n",
              "    <path d=\"M18.56 5.44l.94 2.06.94-2.06 2.06-.94-2.06-.94-.94-2.06-.94 2.06-2.06.94zm-11 1L8.5 8.5l.94-2.06 2.06-.94-2.06-.94L8.5 2.5l-.94 2.06-2.06.94zm10 10l.94 2.06.94-2.06 2.06-.94-2.06-.94-.94-2.06-.94 2.06-2.06.94z\"/><path d=\"M17.41 7.96l-1.37-1.37c-.4-.4-.92-.59-1.43-.59-.52 0-1.04.2-1.43.59L10.3 9.45l-7.72 7.72c-.78.78-.78 2.05 0 2.83L4 21.41c.39.39.9.59 1.41.59.51 0 1.02-.2 1.41-.59l7.78-7.78 2.81-2.81c.8-.78.8-2.07 0-2.86zM5.41 20L4 18.59l7.72-7.72 1.47 1.35L5.41 20z\"/>\n",
              "  </svg>\n",
              "      </button>\n",
              "      \n",
              "  <style>\n",
              "    .colab-df-container {\n",
              "      display:flex;\n",
              "      flex-wrap:wrap;\n",
              "      gap: 12px;\n",
              "    }\n",
              "\n",
              "    .colab-df-convert {\n",
              "      background-color: #E8F0FE;\n",
              "      border: none;\n",
              "      border-radius: 50%;\n",
              "      cursor: pointer;\n",
              "      display: none;\n",
              "      fill: #1967D2;\n",
              "      height: 32px;\n",
              "      padding: 0 0 0 0;\n",
              "      width: 32px;\n",
              "    }\n",
              "\n",
              "    .colab-df-convert:hover {\n",
              "      background-color: #E2EBFA;\n",
              "      box-shadow: 0px 1px 2px rgba(60, 64, 67, 0.3), 0px 1px 3px 1px rgba(60, 64, 67, 0.15);\n",
              "      fill: #174EA6;\n",
              "    }\n",
              "\n",
              "    [theme=dark] .colab-df-convert {\n",
              "      background-color: #3B4455;\n",
              "      fill: #D2E3FC;\n",
              "    }\n",
              "\n",
              "    [theme=dark] .colab-df-convert:hover {\n",
              "      background-color: #434B5C;\n",
              "      box-shadow: 0px 1px 3px 1px rgba(0, 0, 0, 0.15);\n",
              "      filter: drop-shadow(0px 1px 2px rgba(0, 0, 0, 0.3));\n",
              "      fill: #FFFFFF;\n",
              "    }\n",
              "  </style>\n",
              "\n",
              "      <script>\n",
              "        const buttonEl =\n",
              "          document.querySelector('#df-960506fb-984c-44e1-87a4-2c08509a5477 button.colab-df-convert');\n",
              "        buttonEl.style.display =\n",
              "          google.colab.kernel.accessAllowed ? 'block' : 'none';\n",
              "\n",
              "        async function convertToInteractive(key) {\n",
              "          const element = document.querySelector('#df-960506fb-984c-44e1-87a4-2c08509a5477');\n",
              "          const dataTable =\n",
              "            await google.colab.kernel.invokeFunction('convertToInteractive',\n",
              "                                                     [key], {});\n",
              "          if (!dataTable) return;\n",
              "\n",
              "          const docLinkHtml = 'Like what you see? Visit the ' +\n",
              "            '<a target=\"_blank\" href=https://colab.research.google.com/notebooks/data_table.ipynb>data table notebook</a>'\n",
              "            + ' to learn more about interactive tables.';\n",
              "          element.innerHTML = '';\n",
              "          dataTable['output_type'] = 'display_data';\n",
              "          await google.colab.output.renderOutput(dataTable, element);\n",
              "          const docLink = document.createElement('div');\n",
              "          docLink.innerHTML = docLinkHtml;\n",
              "          element.appendChild(docLink);\n",
              "        }\n",
              "      </script>\n",
              "    </div>\n",
              "  </div>\n",
              "  "
            ]
          },
          "metadata": {},
          "execution_count": 9
        }
      ]
    },
    {
      "cell_type": "code",
      "source": [
        "df.tail()"
      ],
      "metadata": {
        "colab": {
          "base_uri": "https://localhost:8080/",
          "height": 206
        },
        "id": "97WJPjCXMnJz",
        "outputId": "2d593977-704d-4d93-8766-2cce85d9fbb4"
      },
      "execution_count": null,
      "outputs": [
        {
          "output_type": "execute_result",
          "data": {
            "text/plain": [
              "            Date   Open    High     Low    Last   Close  Total Trade Quantity  \\\n",
              "2030  2010-07-27  117.6  119.50  112.00  118.80  118.65                586100   \n",
              "2031  2010-07-26  120.1  121.00  117.10  117.10  117.60                658440   \n",
              "2032  2010-07-23  121.8  121.95  120.25  120.35  120.65                281312   \n",
              "2033  2010-07-22  120.3  122.00  120.25  120.75  120.90                293312   \n",
              "2034  2010-07-21  122.1  123.00  121.05  121.10  121.55                658666   \n",
              "\n",
              "      Turnover (Lacs)  \n",
              "2030           694.98  \n",
              "2031           780.01  \n",
              "2032           340.31  \n",
              "2033           355.17  \n",
              "2034           803.56  "
            ],
            "text/html": [
              "\n",
              "  <div id=\"df-b0e79b9d-099f-45dd-aa8a-91b15f88b856\">\n",
              "    <div class=\"colab-df-container\">\n",
              "      <div>\n",
              "<style scoped>\n",
              "    .dataframe tbody tr th:only-of-type {\n",
              "        vertical-align: middle;\n",
              "    }\n",
              "\n",
              "    .dataframe tbody tr th {\n",
              "        vertical-align: top;\n",
              "    }\n",
              "\n",
              "    .dataframe thead th {\n",
              "        text-align: right;\n",
              "    }\n",
              "</style>\n",
              "<table border=\"1\" class=\"dataframe\">\n",
              "  <thead>\n",
              "    <tr style=\"text-align: right;\">\n",
              "      <th></th>\n",
              "      <th>Date</th>\n",
              "      <th>Open</th>\n",
              "      <th>High</th>\n",
              "      <th>Low</th>\n",
              "      <th>Last</th>\n",
              "      <th>Close</th>\n",
              "      <th>Total Trade Quantity</th>\n",
              "      <th>Turnover (Lacs)</th>\n",
              "    </tr>\n",
              "  </thead>\n",
              "  <tbody>\n",
              "    <tr>\n",
              "      <th>2030</th>\n",
              "      <td>2010-07-27</td>\n",
              "      <td>117.6</td>\n",
              "      <td>119.50</td>\n",
              "      <td>112.00</td>\n",
              "      <td>118.80</td>\n",
              "      <td>118.65</td>\n",
              "      <td>586100</td>\n",
              "      <td>694.98</td>\n",
              "    </tr>\n",
              "    <tr>\n",
              "      <th>2031</th>\n",
              "      <td>2010-07-26</td>\n",
              "      <td>120.1</td>\n",
              "      <td>121.00</td>\n",
              "      <td>117.10</td>\n",
              "      <td>117.10</td>\n",
              "      <td>117.60</td>\n",
              "      <td>658440</td>\n",
              "      <td>780.01</td>\n",
              "    </tr>\n",
              "    <tr>\n",
              "      <th>2032</th>\n",
              "      <td>2010-07-23</td>\n",
              "      <td>121.8</td>\n",
              "      <td>121.95</td>\n",
              "      <td>120.25</td>\n",
              "      <td>120.35</td>\n",
              "      <td>120.65</td>\n",
              "      <td>281312</td>\n",
              "      <td>340.31</td>\n",
              "    </tr>\n",
              "    <tr>\n",
              "      <th>2033</th>\n",
              "      <td>2010-07-22</td>\n",
              "      <td>120.3</td>\n",
              "      <td>122.00</td>\n",
              "      <td>120.25</td>\n",
              "      <td>120.75</td>\n",
              "      <td>120.90</td>\n",
              "      <td>293312</td>\n",
              "      <td>355.17</td>\n",
              "    </tr>\n",
              "    <tr>\n",
              "      <th>2034</th>\n",
              "      <td>2010-07-21</td>\n",
              "      <td>122.1</td>\n",
              "      <td>123.00</td>\n",
              "      <td>121.05</td>\n",
              "      <td>121.10</td>\n",
              "      <td>121.55</td>\n",
              "      <td>658666</td>\n",
              "      <td>803.56</td>\n",
              "    </tr>\n",
              "  </tbody>\n",
              "</table>\n",
              "</div>\n",
              "      <button class=\"colab-df-convert\" onclick=\"convertToInteractive('df-b0e79b9d-099f-45dd-aa8a-91b15f88b856')\"\n",
              "              title=\"Convert this dataframe to an interactive table.\"\n",
              "              style=\"display:none;\">\n",
              "        \n",
              "  <svg xmlns=\"http://www.w3.org/2000/svg\" height=\"24px\"viewBox=\"0 0 24 24\"\n",
              "       width=\"24px\">\n",
              "    <path d=\"M0 0h24v24H0V0z\" fill=\"none\"/>\n",
              "    <path d=\"M18.56 5.44l.94 2.06.94-2.06 2.06-.94-2.06-.94-.94-2.06-.94 2.06-2.06.94zm-11 1L8.5 8.5l.94-2.06 2.06-.94-2.06-.94L8.5 2.5l-.94 2.06-2.06.94zm10 10l.94 2.06.94-2.06 2.06-.94-2.06-.94-.94-2.06-.94 2.06-2.06.94z\"/><path d=\"M17.41 7.96l-1.37-1.37c-.4-.4-.92-.59-1.43-.59-.52 0-1.04.2-1.43.59L10.3 9.45l-7.72 7.72c-.78.78-.78 2.05 0 2.83L4 21.41c.39.39.9.59 1.41.59.51 0 1.02-.2 1.41-.59l7.78-7.78 2.81-2.81c.8-.78.8-2.07 0-2.86zM5.41 20L4 18.59l7.72-7.72 1.47 1.35L5.41 20z\"/>\n",
              "  </svg>\n",
              "      </button>\n",
              "      \n",
              "  <style>\n",
              "    .colab-df-container {\n",
              "      display:flex;\n",
              "      flex-wrap:wrap;\n",
              "      gap: 12px;\n",
              "    }\n",
              "\n",
              "    .colab-df-convert {\n",
              "      background-color: #E8F0FE;\n",
              "      border: none;\n",
              "      border-radius: 50%;\n",
              "      cursor: pointer;\n",
              "      display: none;\n",
              "      fill: #1967D2;\n",
              "      height: 32px;\n",
              "      padding: 0 0 0 0;\n",
              "      width: 32px;\n",
              "    }\n",
              "\n",
              "    .colab-df-convert:hover {\n",
              "      background-color: #E2EBFA;\n",
              "      box-shadow: 0px 1px 2px rgba(60, 64, 67, 0.3), 0px 1px 3px 1px rgba(60, 64, 67, 0.15);\n",
              "      fill: #174EA6;\n",
              "    }\n",
              "\n",
              "    [theme=dark] .colab-df-convert {\n",
              "      background-color: #3B4455;\n",
              "      fill: #D2E3FC;\n",
              "    }\n",
              "\n",
              "    [theme=dark] .colab-df-convert:hover {\n",
              "      background-color: #434B5C;\n",
              "      box-shadow: 0px 1px 3px 1px rgba(0, 0, 0, 0.15);\n",
              "      filter: drop-shadow(0px 1px 2px rgba(0, 0, 0, 0.3));\n",
              "      fill: #FFFFFF;\n",
              "    }\n",
              "  </style>\n",
              "\n",
              "      <script>\n",
              "        const buttonEl =\n",
              "          document.querySelector('#df-b0e79b9d-099f-45dd-aa8a-91b15f88b856 button.colab-df-convert');\n",
              "        buttonEl.style.display =\n",
              "          google.colab.kernel.accessAllowed ? 'block' : 'none';\n",
              "\n",
              "        async function convertToInteractive(key) {\n",
              "          const element = document.querySelector('#df-b0e79b9d-099f-45dd-aa8a-91b15f88b856');\n",
              "          const dataTable =\n",
              "            await google.colab.kernel.invokeFunction('convertToInteractive',\n",
              "                                                     [key], {});\n",
              "          if (!dataTable) return;\n",
              "\n",
              "          const docLinkHtml = 'Like what you see? Visit the ' +\n",
              "            '<a target=\"_blank\" href=https://colab.research.google.com/notebooks/data_table.ipynb>data table notebook</a>'\n",
              "            + ' to learn more about interactive tables.';\n",
              "          element.innerHTML = '';\n",
              "          dataTable['output_type'] = 'display_data';\n",
              "          await google.colab.output.renderOutput(dataTable, element);\n",
              "          const docLink = document.createElement('div');\n",
              "          docLink.innerHTML = docLinkHtml;\n",
              "          element.appendChild(docLink);\n",
              "        }\n",
              "      </script>\n",
              "    </div>\n",
              "  </div>\n",
              "  "
            ]
          },
          "metadata": {},
          "execution_count": 10
        }
      ]
    },
    {
      "cell_type": "code",
      "source": [
        "df.shape"
      ],
      "metadata": {
        "colab": {
          "base_uri": "https://localhost:8080/"
        },
        "id": "_9oWbqb6NAWz",
        "outputId": "056f2a8d-156f-4e2f-fd62-3c0b724ca20c"
      },
      "execution_count": null,
      "outputs": [
        {
          "output_type": "execute_result",
          "data": {
            "text/plain": [
              "(2035, 8)"
            ]
          },
          "metadata": {},
          "execution_count": 13
        }
      ]
    },
    {
      "cell_type": "code",
      "source": [
        "df1=df.reset_index()['Close']"
      ],
      "metadata": {
        "id": "ulIzZpJmMq5_"
      },
      "execution_count": null,
      "outputs": []
    },
    {
      "cell_type": "code",
      "source": [
        "df1.shape"
      ],
      "metadata": {
        "colab": {
          "base_uri": "https://localhost:8080/"
        },
        "id": "68GfevTrMzWy",
        "outputId": "4943ac00-7213-4fef-805d-9cb2287f4aba"
      },
      "execution_count": null,
      "outputs": [
        {
          "output_type": "execute_result",
          "data": {
            "text/plain": [
              "(2035,)"
            ]
          },
          "metadata": {},
          "execution_count": 12
        }
      ]
    },
    {
      "cell_type": "code",
      "source": [
        "import matplotlib.pyplot as plt"
      ],
      "metadata": {
        "id": "NFOe8_b1NCld"
      },
      "execution_count": null,
      "outputs": []
    },
    {
      "cell_type": "code",
      "source": [
        "plt.plot(df1)"
      ],
      "metadata": {
        "colab": {
          "base_uri": "https://localhost:8080/",
          "height": 447
        },
        "id": "qwAXPvu8NKFX",
        "outputId": "fef4b953-57f0-4a8a-cf22-b05900947785"
      },
      "execution_count": null,
      "outputs": [
        {
          "output_type": "execute_result",
          "data": {
            "text/plain": [
              "[<matplotlib.lines.Line2D at 0x7f2773cb4fa0>]"
            ]
          },
          "metadata": {},
          "execution_count": 15
        },
        {
          "output_type": "display_data",
          "data": {
            "text/plain": [
              "<Figure size 640x480 with 1 Axes>"
            ],
            "image/png": "[encoded data removed]"
          },
          "metadata": {}
        }
      ]
    },
    {
      "cell_type": "markdown",
      "source": [
        "LSTM are sensitive to the scale of data so need to transform the values"
      ],
      "metadata": {
        "id": "uXAANEg4NQ5y"
      }
    },
    {
      "cell_type": "code",
      "source": [
        "import numpy as np"
      ],
      "metadata": {
        "id": "lpOYc9sKNM1A"
      },
      "execution_count": null,
      "outputs": []
    },
    {
      "cell_type": "code",
      "source": [
        "from sklearn.preprocessing import MinMaxScaler"
      ],
      "metadata": {
        "id": "f1IeEEd2NbCY"
      },
      "execution_count": null,
      "outputs": []
    },
    {
      "cell_type": "code",
      "source": [
        "scaler=MinMaxScaler(feature_range=(0,1))"
      ],
      "metadata": {
        "id": "AxVSYclTNllS"
      },
      "execution_count": null,
      "outputs": []
    },
    {
      "cell_type": "code",
      "source": [
        "df2=scaler.fit_transform(np.array(df1).reshape(-1,1))"
      ],
      "metadata": {
        "id": "NY27ul1HN0wd"
      },
      "execution_count": null,
      "outputs": []
    },
    {
      "cell_type": "code",
      "source": [
        "df2.shape"
      ],
      "metadata": {
        "colab": {
          "base_uri": "https://localhost:8080/"
        },
        "id": "wq4ou8eaOE8S",
        "outputId": "1684f63e-e515-4f35-a724-6a8f2993baad"
      },
      "execution_count": null,
      "outputs": [
        {
          "output_type": "execute_result",
          "data": {
            "text/plain": [
              "(2035, 1)"
            ]
          },
          "metadata": {},
          "execution_count": 24
        }
      ]
    },
    {
      "cell_type": "code",
      "source": [
        "df2"
      ],
      "metadata": {
        "colab": {
          "base_uri": "https://localhost:8080/"
        },
        "id": "PCTZ5bNEOPu8",
        "outputId": "caae655a-2224-46d6-d70f-3244e28a71d0"
      },
      "execution_count": null,
      "outputs": [
        {
          "output_type": "execute_result",
          "data": {
            "text/plain": [
              "array([[0.62418301],\n",
              "       [0.62214052],\n",
              "       [0.62622549],\n",
              "       ...,\n",
              "       [0.1621732 ],\n",
              "       [0.16319444],\n",
              "       [0.16584967]])"
            ]
          },
          "metadata": {},
          "execution_count": 23
        }
      ]
    },
    {
      "cell_type": "markdown",
      "source": [
        "Time series data:\n",
        "data must be divided based on date and take it in training data and remaining will be in test. Reason is because the next day stock price are predicted using previous one."
      ],
      "metadata": {
        "id": "3LX76NKhOlKt"
      }
    },
    {
      "cell_type": "code",
      "source": [
        "sizetr=int(len(df2)*0.65)\n",
        "sizetest=len(df2)-sizetr\n",
        "train_data,test_data=df2[0:sizetr,:],df2[sizetr:len(df2),:1]"
      ],
      "metadata": {
        "id": "ioPf-l32OVUl"
      },
      "execution_count": null,
      "outputs": []
    },
    {
      "cell_type": "code",
      "source": [
        "sizetr,sizetest"
      ],
      "metadata": {
        "colab": {
          "base_uri": "https://localhost:8080/"
        },
        "id": "8qhGy5slPnw6",
        "outputId": "9c51f8f2-f4f3-4669-b011-ce6dbd364c8a"
      },
      "execution_count": null,
      "outputs": [
        {
          "output_type": "execute_result",
          "data": {
            "text/plain": [
              "(1322, 713)"
            ]
          },
          "metadata": {},
          "execution_count": 27
        }
      ]
    },
    {
      "cell_type": "code",
      "source": [
        "train_data,test_data"
      ],
      "metadata": {
        "colab": {
          "base_uri": "https://localhost:8080/"
        },
        "id": "KS29dhTLPrZ6",
        "outputId": "e5b593b0-6943-4b52-d09f-5830fd571a75"
      },
      "execution_count": null,
      "outputs": [
        {
          "output_type": "execute_result",
          "data": {
            "text/plain": [
              "(array([[0.62418301],\n",
              "        [0.62214052],\n",
              "        [0.62622549],\n",
              "        ...,\n",
              "        [0.25347222],\n",
              "        [0.26041667],\n",
              "        [0.2563317 ]]),\n",
              " array([[0.24652778],\n",
              "        [0.23611111],\n",
              "        [0.25204248],\n",
              "        [0.25919118],\n",
              "        [0.25776144],\n",
              "        [0.2681781 ],\n",
              "        [0.25449346],\n",
              "        [0.27103758],\n",
              "        [0.24530229],\n",
              "        [0.26756536],\n",
              "        [0.27267157],\n",
              "        [0.26633987],\n",
              "        [0.27410131],\n",
              "        [0.28615196],\n",
              "        [0.27818627],\n",
              "        [0.27205882],\n",
              "        [0.27124183],\n",
              "        [0.27798203],\n",
              "        [0.27083333],\n",
              "        [0.25857843],\n",
              "        [0.24285131],\n",
              "        [0.2250817 ],\n",
              "        [0.23447712],\n",
              "        [0.24346405],\n",
              "        [0.23611111],\n",
              "        [0.22937092],\n",
              "        [0.21527778],\n",
              "        [0.20976307],\n",
              "        [0.20751634],\n",
              "        [0.2060866 ],\n",
              "        [0.20445261],\n",
              "        [0.20098039],\n",
              "        [0.21180556],\n",
              "        [0.19301471],\n",
              "        [0.18974673],\n",
              "        [0.20302288],\n",
              "        [0.21752451],\n",
              "        [0.20629085],\n",
              "        [0.19158497],\n",
              "        [0.17381536],\n",
              "        [0.17401961],\n",
              "        [0.18361928],\n",
              "        [0.17830882],\n",
              "        [0.19362745],\n",
              "        [0.20098039],\n",
              "        [0.20486111],\n",
              "        [0.21425654],\n",
              "        [0.21813725],\n",
              "        [0.21466503],\n",
              "        [0.21343954],\n",
              "        [0.21160131],\n",
              "        [0.21711601],\n",
              "        [0.20710784],\n",
              "        [0.2005719 ],\n",
              "        [0.20874183],\n",
              "        [0.18647876],\n",
              "        [0.19199346],\n",
              "        [0.1807598 ],\n",
              "        [0.20935458],\n",
              "        [0.20792484],\n",
              "        [0.21425654],\n",
              "        [0.23366013],\n",
              "        [0.23304739],\n",
              "        [0.26184641],\n",
              "        [0.26715686],\n",
              "        [0.24897876],\n",
              "        [0.24550654],\n",
              "        [0.2373366 ],\n",
              "        [0.24754902],\n",
              "        [0.2495915 ],\n",
              "        [0.24448529],\n",
              "        [0.25142974],\n",
              "        [0.26102941],\n",
              "        [0.2504085 ],\n",
              "        [0.24734477],\n",
              "        [0.2622549 ],\n",
              "        [0.2689951 ],\n",
              "        [0.27941176],\n",
              "        [0.25714869],\n",
              "        [0.27287582],\n",
              "        [0.27246732],\n",
              "        [0.27389706],\n",
              "        [0.26368464],\n",
              "        [0.27798203],\n",
              "        [0.28962418],\n",
              "        [0.29840686],\n",
              "        [0.2943219 ],\n",
              "        [0.30228758],\n",
              "        [0.30861928],\n",
              "        [0.31699346],\n",
              "        [0.32066993],\n",
              "        [0.31740196],\n",
              "        [0.32700163],\n",
              "        [0.33292484],\n",
              "        [0.33823529],\n",
              "        [0.33415033],\n",
              "        [0.33986928],\n",
              "        [0.34681373],\n",
              "        [0.3500817 ],\n",
              "        [0.32618464],\n",
              "        [0.32271242],\n",
              "        [0.3247549 ],\n",
              "        [0.32148693],\n",
              "        [0.32352941],\n",
              "        [0.3255719 ],\n",
              "        [0.32638889],\n",
              "        [0.33496732],\n",
              "        [0.34395425],\n",
              "        [0.3441585 ],\n",
              "        [0.34599673],\n",
              "        [0.35866013],\n",
              "        [0.35580065],\n",
              "        [0.37214052],\n",
              "        [0.36294935],\n",
              "        [0.3754085 ],\n",
              "        [0.36315359],\n",
              "        [0.34640523],\n",
              "        [0.34579248],\n",
              "        [0.34844771],\n",
              "        [0.35784314],\n",
              "        [0.34722222],\n",
              "        [0.33353758],\n",
              "        [0.33537582],\n",
              "        [0.33680556],\n",
              "        [0.33680556],\n",
              "        [0.32271242],\n",
              "        [0.32638889],\n",
              "        [0.3188317 ],\n",
              "        [0.33986928],\n",
              "        [0.37765523],\n",
              "        [0.3999183 ],\n",
              "        [0.36968954],\n",
              "        [0.35886438],\n",
              "        [0.35927288],\n",
              "        [0.35294118],\n",
              "        [0.32107843],\n",
              "        [0.31413399],\n",
              "        [0.31740196],\n",
              "        [0.31597222],\n",
              "        [0.32209967],\n",
              "        [0.28267974],\n",
              "        [0.28492647],\n",
              "        [0.27389706],\n",
              "        [0.28778595],\n",
              "        [0.30187908],\n",
              "        [0.31045752],\n",
              "        [0.32128268],\n",
              "        [0.31454248],\n",
              "        [0.33129085],\n",
              "        [0.33292484],\n",
              "        [0.32802288],\n",
              "        [0.32291667],\n",
              "        [0.32802288],\n",
              "        [0.32312092],\n",
              "        [0.30718954],\n",
              "        [0.29595588],\n",
              "        [0.30473856],\n",
              "        [0.28288399],\n",
              "        [0.28982843],\n",
              "        [0.30412582],\n",
              "        [0.26429739],\n",
              "        [0.25285948],\n",
              "        [0.20710784],\n",
              "        [0.20261438],\n",
              "        [0.19566993],\n",
              "        [0.19546569],\n",
              "        [0.20465686],\n",
              "        [0.18974673],\n",
              "        [0.19934641],\n",
              "        [0.1942402 ],\n",
              "        [0.21527778],\n",
              "        [0.21629902],\n",
              "        [0.2183415 ],\n",
              "        [0.21997549],\n",
              "        [0.22222222],\n",
              "        [0.22753268],\n",
              "        [0.22732843],\n",
              "        [0.22324346],\n",
              "        [0.21527778],\n",
              "        [0.20690359],\n",
              "        [0.20200163],\n",
              "        [0.19955065],\n",
              "        [0.20159314],\n",
              "        [0.1807598 ],\n",
              "        [0.19178922],\n",
              "        [0.19403595],\n",
              "        [0.19566993],\n",
              "        [0.20445261],\n",
              "        [0.20772059],\n",
              "        [0.21221405],\n",
              "        [0.21956699],\n",
              "        [0.21629902],\n",
              "        [0.21629902],\n",
              "        [0.22140523],\n",
              "        [0.2120098 ],\n",
              "        [0.20547386],\n",
              "        [0.20077614],\n",
              "        [0.1997549 ],\n",
              "        [0.2001634 ],\n",
              "        [0.20506536],\n",
              "        [0.2005719 ],\n",
              "        [0.18831699],\n",
              "        [0.18811275],\n",
              "        [0.17034314],\n",
              "        [0.1621732 ],\n",
              "        [0.15972222],\n",
              "        [0.16278595],\n",
              "        [0.17340686],\n",
              "        [0.14174837],\n",
              "        [0.15441176],\n",
              "        [0.16503268],\n",
              "        [0.15563725],\n",
              "        [0.14460784],\n",
              "        [0.13684641],\n",
              "        [0.13582516],\n",
              "        [0.14072712],\n",
              "        [0.14501634],\n",
              "        [0.14195261],\n",
              "        [0.13562092],\n",
              "        [0.15053105],\n",
              "        [0.15727124],\n",
              "        [0.15461601],\n",
              "        [0.15767974],\n",
              "        [0.15114379],\n",
              "        [0.14297386],\n",
              "        [0.14215686],\n",
              "        [0.14787582],\n",
              "        [0.13970588],\n",
              "        [0.11642157],\n",
              "        [0.11131536],\n",
              "        [0.10927288],\n",
              "        [0.10334967],\n",
              "        [0.09783497],\n",
              "        [0.10089869],\n",
              "        [0.10906863],\n",
              "        [0.10171569],\n",
              "        [0.11254085],\n",
              "        [0.12704248],\n",
              "        [0.12214052],\n",
              "        [0.12704248],\n",
              "        [0.11519608],\n",
              "        [0.11008987],\n",
              "        [0.0996732 ],\n",
              "        [0.09640523],\n",
              "        [0.10089869],\n",
              "        [0.10886438],\n",
              "        [0.10866013],\n",
              "        [0.1186683 ],\n",
              "        [0.12316176],\n",
              "        [0.11029412],\n",
              "        [0.11703431],\n",
              "        [0.11008987],\n",
              "        [0.1064134 ],\n",
              "        [0.10559641],\n",
              "        [0.1004902 ],\n",
              "        [0.10784314],\n",
              "        [0.10988562],\n",
              "        [0.09763072],\n",
              "        [0.09027778],\n",
              "        [0.1123366 ],\n",
              "        [0.12867647],\n",
              "        [0.12071078],\n",
              "        [0.13031046],\n",
              "        [0.1439951 ],\n",
              "        [0.13664216],\n",
              "        [0.14910131],\n",
              "        [0.15686275],\n",
              "        [0.14685458],\n",
              "        [0.14481209],\n",
              "        [0.14195261],\n",
              "        [0.14093137],\n",
              "        [0.14583333],\n",
              "        [0.15339052],\n",
              "        [0.14889706],\n",
              "        [0.16646242],\n",
              "        [0.17585784],\n",
              "        [0.15604575],\n",
              "        [0.15522876],\n",
              "        [0.15339052],\n",
              "        [0.14644608],\n",
              "        [0.16441993],\n",
              "        [0.15236928],\n",
              "        [0.14889706],\n",
              "        [0.14705882],\n",
              "        [0.15012255],\n",
              "        [0.15522876],\n",
              "        [0.14052288],\n",
              "        [0.12826797],\n",
              "        [0.11172386],\n",
              "        [0.11805556],\n",
              "        [0.11887255],\n",
              "        [0.11519608],\n",
              "        [0.12969771],\n",
              "        [0.12254902],\n",
              "        [0.13786765],\n",
              "        [0.1313317 ],\n",
              "        [0.11744281],\n",
              "        [0.13071895],\n",
              "        [0.1431781 ],\n",
              "        [0.16115196],\n",
              "        [0.15175654],\n",
              "        [0.14644608],\n",
              "        [0.15216503],\n",
              "        [0.1435866 ],\n",
              "        [0.13419118],\n",
              "        [0.1431781 ],\n",
              "        [0.16115196],\n",
              "        [0.16176471],\n",
              "        [0.17320261],\n",
              "        [0.18218954],\n",
              "        [0.16237745],\n",
              "        [0.13112745],\n",
              "        [0.15931373],\n",
              "        [0.15951797],\n",
              "        [0.14808007],\n",
              "        [0.16278595],\n",
              "        [0.15625   ],\n",
              "        [0.16319444],\n",
              "        [0.16360294],\n",
              "        [0.16278595],\n",
              "        [0.16544118],\n",
              "        [0.15522876],\n",
              "        [0.17197712],\n",
              "        [0.1503268 ],\n",
              "        [0.13255719],\n",
              "        [0.14338235],\n",
              "        [0.15849673],\n",
              "        [0.1186683 ],\n",
              "        [0.11519608],\n",
              "        [0.10947712],\n",
              "        [0.0692402 ],\n",
              "        [0.06597222],\n",
              "        [0.05841503],\n",
              "        [0.05044935],\n",
              "        [0.04534314],\n",
              "        [0.04779412],\n",
              "        [0.05290033],\n",
              "        [0.04922386],\n",
              "        [0.06638072],\n",
              "        [0.07169118],\n",
              "        [0.05392157],\n",
              "        [0.04881536],\n",
              "        [0.04881536],\n",
              "        [0.05310458],\n",
              "        [0.04963235],\n",
              "        [0.05065359],\n",
              "        [0.05126634],\n",
              "        [0.04963235],\n",
              "        [0.05902778],\n",
              "        [0.05555556],\n",
              "        [0.04084967],\n",
              "        [0.03737745],\n",
              "        [0.03737745],\n",
              "        [0.02655229],\n",
              "        [0.02879902],\n",
              "        [0.0316585 ],\n",
              "        [0.0316585 ],\n",
              "        [0.03635621],\n",
              "        [0.02205882],\n",
              "        [0.01674837],\n",
              "        [0.01450163],\n",
              "        [0.02226307],\n",
              "        [0.03615196],\n",
              "        [0.02675654],\n",
              "        [0.03206699],\n",
              "        [0.02696078],\n",
              "        [0.03574346],\n",
              "        [0.03594771],\n",
              "        [0.04044118],\n",
              "        [0.03921569],\n",
              "        [0.04411765],\n",
              "        [0.02982026],\n",
              "        [0.0122549 ],\n",
              "        [0.01286765],\n",
              "        [0.01143791],\n",
              "        [0.00245098],\n",
              "        [0.0059232 ],\n",
              "        [0.        ],\n",
              "        [0.00714869],\n",
              "        [0.00428922],\n",
              "        [0.0067402 ],\n",
              "        [0.0063317 ],\n",
              "        [0.01123366],\n",
              "        [0.01960784],\n",
              "        [0.02757353],\n",
              "        [0.03002451],\n",
              "        [0.03349673],\n",
              "        [0.04003268],\n",
              "        [0.04084967],\n",
              "        [0.03982843],\n",
              "        [0.04166667],\n",
              "        [0.04370915],\n",
              "        [0.04758987],\n",
              "        [0.03594771],\n",
              "        [0.02839052],\n",
              "        [0.02410131],\n",
              "        [0.01715686],\n",
              "        [0.01531863],\n",
              "        [0.01756536],\n",
              "        [0.02696078],\n",
              "        [0.02696078],\n",
              "        [0.03819444],\n",
              "        [0.02839052],\n",
              "        [0.02369281],\n",
              "        [0.02920752],\n",
              "        [0.02328431],\n",
              "        [0.01919935],\n",
              "        [0.00653595],\n",
              "        [0.00061275],\n",
              "        [0.00796569],\n",
              "        [0.01245915],\n",
              "        [0.01981209],\n",
              "        [0.01940359],\n",
              "        [0.02246732],\n",
              "        [0.03125   ],\n",
              "        [0.02348856],\n",
              "        [0.0249183 ],\n",
              "        [0.02144608],\n",
              "        [0.04840686],\n",
              "        [0.04575163],\n",
              "        [0.03962418],\n",
              "        [0.03921569],\n",
              "        [0.04758987],\n",
              "        [0.04513889],\n",
              "        [0.04166667],\n",
              "        [0.04125817],\n",
              "        [0.05044935],\n",
              "        [0.05555556],\n",
              "        [0.05494281],\n",
              "        [0.05412582],\n",
              "        [0.0435049 ],\n",
              "        [0.04799837],\n",
              "        [0.05147059],\n",
              "        [0.05065359],\n",
              "        [0.03431373],\n",
              "        [0.04575163],\n",
              "        [0.04187092],\n",
              "        [0.04554739],\n",
              "        [0.03941993],\n",
              "        [0.02716503],\n",
              "        [0.03125   ],\n",
              "        [0.05882353],\n",
              "        [0.07148693],\n",
              "        [0.08721405],\n",
              "        [0.08986928],\n",
              "        [0.10498366],\n",
              "        [0.08905229],\n",
              "        [0.10355392],\n",
              "        [0.10375817],\n",
              "        [0.12275327],\n",
              "        [0.10906863],\n",
              "        [0.09660948],\n",
              "        [0.1064134 ],\n",
              "        [0.10457516],\n",
              "        [0.11049837],\n",
              "        [0.1127451 ],\n",
              "        [0.09803922],\n",
              "        [0.09987745],\n",
              "        [0.08925654],\n",
              "        [0.0747549 ],\n",
              "        [0.08169935],\n",
              "        [0.08925654],\n",
              "        [0.09068627],\n",
              "        [0.08129085],\n",
              "        [0.08823529],\n",
              "        [0.08455882],\n",
              "        [0.07945261],\n",
              "        [0.08374183],\n",
              "        [0.07781863],\n",
              "        [0.09824346],\n",
              "        [0.09089052],\n",
              "        [0.09007353],\n",
              "        [0.09558824],\n",
              "        [0.06862745],\n",
              "        [0.06372549],\n",
              "        [0.0494281 ],\n",
              "        [0.04799837],\n",
              "        [0.04534314],\n",
              "        [0.0443219 ],\n",
              "        [0.03941993],\n",
              "        [0.0379902 ],\n",
              "        [0.04656863],\n",
              "        [0.05085784],\n",
              "        [0.07209967],\n",
              "        [0.06535948],\n",
              "        [0.07230392],\n",
              "        [0.07802288],\n",
              "        [0.07741013],\n",
              "        [0.06086601],\n",
              "        [0.06413399],\n",
              "        [0.07046569],\n",
              "        [0.05412582],\n",
              "        [0.0498366 ],\n",
              "        [0.05167484],\n",
              "        [0.05330882],\n",
              "        [0.0435049 ],\n",
              "        [0.02634804],\n",
              "        [0.02410131],\n",
              "        [0.02961601],\n",
              "        [0.01960784],\n",
              "        [0.02961601],\n",
              "        [0.04575163],\n",
              "        [0.05923203],\n",
              "        [0.06678922],\n",
              "        [0.06229575],\n",
              "        [0.06311275],\n",
              "        [0.0629085 ],\n",
              "        [0.06658497],\n",
              "        [0.07434641],\n",
              "        [0.06944444],\n",
              "        [0.08088235],\n",
              "        [0.07700163],\n",
              "        [0.0684232 ],\n",
              "        [0.06781046],\n",
              "        [0.0629085 ],\n",
              "        [0.0692402 ],\n",
              "        [0.0755719 ],\n",
              "        [0.07781863],\n",
              "        [0.08088235],\n",
              "        [0.08843954],\n",
              "        [0.09395425],\n",
              "        [0.09599673],\n",
              "        [0.08660131],\n",
              "        [0.09027778],\n",
              "        [0.08517157],\n",
              "        [0.08374183],\n",
              "        [0.07945261],\n",
              "        [0.09109477],\n",
              "        [0.09129902],\n",
              "        [0.08803105],\n",
              "        [0.09681373],\n",
              "        [0.11417484],\n",
              "        [0.10498366],\n",
              "        [0.09987745],\n",
              "        [0.08537582],\n",
              "        [0.08047386],\n",
              "        [0.06862745],\n",
              "        [0.06576797],\n",
              "        [0.06147876],\n",
              "        [0.07169118],\n",
              "        [0.07026144],\n",
              "        [0.0747549 ],\n",
              "        [0.06821895],\n",
              "        [0.0692402 ],\n",
              "        [0.07066993],\n",
              "        [0.06801471],\n",
              "        [0.06678922],\n",
              "        [0.07414216],\n",
              "        [0.07169118],\n",
              "        [0.08639706],\n",
              "        [0.08312908],\n",
              "        [0.06311275],\n",
              "        [0.0629085 ],\n",
              "        [0.05167484],\n",
              "        [0.03186275],\n",
              "        [0.04003268],\n",
              "        [0.03860294],\n",
              "        [0.04105392],\n",
              "        [0.03390523],\n",
              "        [0.03125   ],\n",
              "        [0.02634804],\n",
              "        [0.05861928],\n",
              "        [0.06311275],\n",
              "        [0.0620915 ],\n",
              "        [0.05535131],\n",
              "        [0.08455882],\n",
              "        [0.05514706],\n",
              "        [0.06045752],\n",
              "        [0.0557598 ],\n",
              "        [0.0439134 ],\n",
              "        [0.02920752],\n",
              "        [0.02818627],\n",
              "        [0.04718137],\n",
              "        [0.06045752],\n",
              "        [0.05861928],\n",
              "        [0.06168301],\n",
              "        [0.06699346],\n",
              "        [0.07087418],\n",
              "        [0.0755719 ],\n",
              "        [0.07700163],\n",
              "        [0.10375817],\n",
              "        [0.10314542],\n",
              "        [0.10334967],\n",
              "        [0.10089869],\n",
              "        [0.10437092],\n",
              "        [0.09803922],\n",
              "        [0.09722222],\n",
              "        [0.09783497],\n",
              "        [0.09579248],\n",
              "        [0.09109477],\n",
              "        [0.09313725],\n",
              "        [0.08558007],\n",
              "        [0.09517974],\n",
              "        [0.11172386],\n",
              "        [0.12275327],\n",
              "        [0.12806373],\n",
              "        [0.1313317 ],\n",
              "        [0.12479575],\n",
              "        [0.11090686],\n",
              "        [0.10743464],\n",
              "        [0.11621732],\n",
              "        [0.11683007],\n",
              "        [0.11764706],\n",
              "        [0.12888072],\n",
              "        [0.12847222],\n",
              "        [0.13337418],\n",
              "        [0.14236111],\n",
              "        [0.14093137],\n",
              "        [0.13970588],\n",
              "        [0.13827614],\n",
              "        [0.13541667],\n",
              "        [0.13010621],\n",
              "        [0.12254902],\n",
              "        [0.12479575],\n",
              "        [0.13848039],\n",
              "        [0.14011438],\n",
              "        [0.13888889],\n",
              "        [0.13541667],\n",
              "        [0.14011438],\n",
              "        [0.1380719 ],\n",
              "        [0.13071895],\n",
              "        [0.13071895],\n",
              "        [0.12867647],\n",
              "        [0.11846405],\n",
              "        [0.14644608],\n",
              "        [0.14808007],\n",
              "        [0.15910948],\n",
              "        [0.15992647],\n",
              "        [0.15788399],\n",
              "        [0.16441993],\n",
              "        [0.17892157],\n",
              "        [0.17933007],\n",
              "        [0.19260621],\n",
              "        [0.20812908],\n",
              "        [0.18974673],\n",
              "        [0.18055556],\n",
              "        [0.18239379],\n",
              "        [0.17708333],\n",
              "        [0.17810458],\n",
              "        [0.18055556],\n",
              "        [0.17810458],\n",
              "        [0.17851307],\n",
              "        [0.19607843],\n",
              "        [0.18913399],\n",
              "        [0.18954248],\n",
              "        [0.19403595],\n",
              "        [0.19444444],\n",
              "        [0.20200163],\n",
              "        [0.19771242],\n",
              "        [0.19934641],\n",
              "        [0.19873366],\n",
              "        [0.1997549 ],\n",
              "        [0.2128268 ],\n",
              "        [0.21568627],\n",
              "        [0.20445261],\n",
              "        [0.21772876],\n",
              "        [0.21098856],\n",
              "        [0.21425654],\n",
              "        [0.19750817],\n",
              "        [0.18811275],\n",
              "        [0.17851307],\n",
              "        [0.17381536],\n",
              "        [0.16033497],\n",
              "        [0.16564542],\n",
              "        [0.17116013],\n",
              "        [0.17422386],\n",
              "        [0.18035131],\n",
              "        [0.17401961],\n",
              "        [0.16278595],\n",
              "        [0.16973039],\n",
              "        [0.17810458],\n",
              "        [0.17034314],\n",
              "        [0.16830065],\n",
              "        [0.17279412],\n",
              "        [0.17544935],\n",
              "        [0.18382353],\n",
              "        [0.19138072],\n",
              "        [0.18913399],\n",
              "        [0.19097222],\n",
              "        [0.17238562],\n",
              "        [0.16830065],\n",
              "        [0.1693219 ],\n",
              "        [0.17177288],\n",
              "        [0.16156046],\n",
              "        [0.14971405],\n",
              "        [0.1503268 ],\n",
              "        [0.15196078],\n",
              "        [0.14726307],\n",
              "        [0.14501634],\n",
              "        [0.14603758],\n",
              "        [0.12479575],\n",
              "        [0.13112745],\n",
              "        [0.11397059],\n",
              "        [0.1190768 ],\n",
              "        [0.12377451],\n",
              "        [0.13562092],\n",
              "        [0.12908497],\n",
              "        [0.13459967],\n",
              "        [0.12806373],\n",
              "        [0.13031046],\n",
              "        [0.12724673],\n",
              "        [0.13521242],\n",
              "        [0.14522059],\n",
              "        [0.15257353],\n",
              "        [0.14848856],\n",
              "        [0.14338235],\n",
              "        [0.14562908],\n",
              "        [0.15236928],\n",
              "        [0.15400327],\n",
              "        [0.14971405],\n",
              "        [0.1621732 ],\n",
              "        [0.16319444],\n",
              "        [0.16584967]]))"
            ]
          },
          "metadata": {},
          "execution_count": 28
        }
      ]
    },
    {
      "cell_type": "code",
      "source": [
        "import numpy \n"
      ],
      "metadata": {
        "id": "7bR58qo1S9M8"
      },
      "execution_count": null,
      "outputs": []
    },
    {
      "cell_type": "code",
      "source": [
        "def create_set(dataset,time_step=1):\n",
        "  dataX,dataY=[],[]\n",
        "  for i in range(len(dataset)-time_step-1):\n",
        "    a=dataset[i:(i+time_step),0]\n",
        "    dataX.append(a)\n",
        "    dataY.append(dataset[i+time_step,0])\n",
        "  return numpy.array(dataX), numpy.array(dataY)"
      ],
      "metadata": {
        "id": "JohEPzZSP597"
      },
      "execution_count": null,
      "outputs": []
    },
    {
      "cell_type": "code",
      "source": [
        "time_step=100\n",
        "X_train,Y_train=create_set(train_data,time_step)\n",
        "X_test,Y_test=create_set(test_data,time_step)"
      ],
      "metadata": {
        "id": "b2ZrspUZSV4-"
      },
      "execution_count": null,
      "outputs": []
    },
    {
      "cell_type": "code",
      "source": [
        "print(X_train),print(X_train.shape),print(Y_train.shape)"
      ],
      "metadata": {
        "colab": {
          "base_uri": "https://localhost:8080/"
        },
        "id": "SSVCumIOTGN0",
        "outputId": "379c6c3d-318d-4da3-f09a-d63a91fc3132"
      },
      "execution_count": null,
      "outputs": [
        {
          "output_type": "stream",
          "name": "stdout",
          "text": [
            "[[0.62418301 0.62214052 0.62622549 ... 0.83455882 0.86213235 0.85273693]\n",
            " [0.62214052 0.62622549 0.63378268 ... 0.86213235 0.85273693 0.87111928]\n",
            " [0.62622549 0.63378268 0.62234477 ... 0.85273693 0.87111928 0.84497549]\n",
            " ...\n",
            " [0.34517974 0.31781046 0.33047386 ... 0.2816585  0.27001634 0.26531863]\n",
            " [0.31781046 0.33047386 0.32128268 ... 0.27001634 0.26531863 0.27389706]\n",
            " [0.33047386 0.32128268 0.34007353 ... 0.26531863 0.27389706 0.25347222]]\n",
            "(1221, 100)\n",
            "(1221,)\n"
          ]
        },
        {
          "output_type": "execute_result",
          "data": {
            "text/plain": [
              "(None, None, None)"
            ]
          },
          "metadata": {},
          "execution_count": 40
        }
      ]
    },
    {
      "cell_type": "code",
      "source": [
        "print(X_test),print(X_test.shape),print(Y_test.shape)"
      ],
      "metadata": {
        "colab": {
          "base_uri": "https://localhost:8080/"
        },
        "id": "80ODtyGeTn6j",
        "outputId": "ea2f36e5-57fc-4226-d120-15afde9005c2"
      },
      "execution_count": null,
      "outputs": [
        {
          "output_type": "stream",
          "name": "stdout",
          "text": [
            "[[0.24652778 0.23611111 0.25204248 ... 0.34681373 0.3500817  0.32618464]\n",
            " [0.23611111 0.25204248 0.25919118 ... 0.3500817  0.32618464 0.32271242]\n",
            " [0.25204248 0.25919118 0.25776144 ... 0.32618464 0.32271242 0.3247549 ]\n",
            " ...\n",
            " [0.13827614 0.13541667 0.13010621 ... 0.14562908 0.15236928 0.15400327]\n",
            " [0.13541667 0.13010621 0.12254902 ... 0.15236928 0.15400327 0.14971405]\n",
            " [0.13010621 0.12254902 0.12479575 ... 0.15400327 0.14971405 0.1621732 ]]\n",
            "(612, 100)\n",
            "(612,)\n"
          ]
        },
        {
          "output_type": "execute_result",
          "data": {
            "text/plain": [
              "(None, None, None)"
            ]
          },
          "metadata": {},
          "execution_count": 39
        }
      ]
    },
    {
      "cell_type": "markdown",
      "source": [],
      "metadata": {
        "id": "JM2zkr8rT3UC"
      }
    },
    {
      "cell_type": "code",
      "source": [
        "X_train=X_train.reshape(X_train.shape[0],X_train.shape[1],1)\n",
        "X_test=X_test.reshape(X_test.shape[0],X_test.shape[1],1)"
      ],
      "metadata": {
        "id": "wbnJsdWYPdbK"
      },
      "execution_count": null,
      "outputs": []
    },
    {
      "cell_type": "code",
      "source": [
        "from tensorflow.keras.models import Sequential\n",
        "from tensorflow.keras.layers import Dense\n",
        "from tensorflow.keras.layers import LSTM\n"
      ],
      "metadata": {
        "id": "VQ0jNR29UOfo"
      },
      "execution_count": null,
      "outputs": []
    },
    {
      "cell_type": "code",
      "source": [
        "model=Sequential()\n",
        "model.add(LSTM(50,return_sequences=True,input_shape=(100,1)))\n",
        "model.add(LSTM(50,return_sequences=True))\n",
        "model.add(LSTM(50))\n",
        "model.add(Dense(1))\n",
        "model.compile(optimizer='adam',loss='sorenson_dice')"
      ],
      "metadata": {
        "id": "nubFfd5OVHH3"
      },
      "execution_count": null,
      "outputs": []
    },
    {
      "cell_type": "code",
      "source": [
        "model.summary()"
      ],
      "metadata": {
        "colab": {
          "base_uri": "https://localhost:8080/"
        },
        "id": "0NE0q0ToV45O",
        "outputId": "d2bbfa5e-5a76-4c9c-cd4a-19cc9b80de48"
      },
      "execution_count": null,
      "outputs": [
        {
          "output_type": "stream",
          "name": "stdout",
          "text": [
            "Model: \"sequential_7\"\n",
            "_________________________________________________________________\n",
            " Layer (type)                Output Shape              Param #   \n",
            "=================================================================\n",
            " lstm_15 (LSTM)              (None, 100, 50)           10400     \n",
            "                                                                 \n",
            " lstm_16 (LSTM)              (None, 100, 50)           20200     \n",
            "                                                                 \n",
            " lstm_17 (LSTM)              (None, 50)                20200     \n",
            "                                                                 \n",
            " dense_3 (Dense)             (None, 1)                 51        \n",
            "                                                                 \n",
            "=================================================================\n",
            "Total params: 50,851\n",
            "Trainable params: 50,851\n",
            "Non-trainable params: 0\n",
            "_________________________________________________________________\n"
          ]
        }
      ]
    },
    {
      "cell_type": "code",
      "source": [
        "model.fit(X_train,Y_train,validation_data=(X_test,Y_test),epochs=100,batch_size=64,verbose=1)"
      ],
      "metadata": {
        "id": "QL-Ui0pZWOmc"
      },
      "execution_count": null,
      "outputs": []
    },
    {
      "cell_type": "code",
      "source": [
        "import tensorflow as tf"
      ],
      "metadata": {
        "id": "FEZ3QY0mW5w9"
      },
      "execution_count": null,
      "outputs": []
    },
    {
      "cell_type": "code",
      "source": [
        "tf.__version__"
      ],
      "metadata": {
        "colab": {
          "base_uri": "https://localhost:8080/",
          "height": 36
        },
        "id": "RPxwkfdlXO2z",
        "outputId": "42e52c73-a77a-43a2-ddc4-081f3a66d90f"
      },
      "execution_count": null,
      "outputs": [
        {
          "output_type": "execute_result",
          "data": {
            "text/plain": [
              "'2.12.0'"
            ],
            "application/vnd.google.colaboratory.intrinsic+json": {
              "type": "string"
            }
          },
          "metadata": {},
          "execution_count": 58
        }
      ]
    },
    {
      "cell_type": "code",
      "source": [
        "train_pred=model.predict(X_train)\n",
        "test_pred=model.predict(X_test)"
      ],
      "metadata": {
        "colab": {
          "base_uri": "https://localhost:8080/"
        },
        "id": "hjgGQwmOXTWj",
        "outputId": "43d60843-64ac-41fd-a0b9-c7b27ebc7574"
      },
      "execution_count": null,
      "outputs": [
        {
          "output_type": "stream",
          "name": "stdout",
          "text": [
            "39/39 [==============================] - 2s 24ms/step\n",
            "20/20 [==============================] - 0s 24ms/step\n"
          ]
        }
      ]
    },
    {
      "cell_type": "code",
      "source": [
        "train_pred=scaler.inverse_transform(train_pred)\n",
        "test_pred=scaler.inverse_transform(test_pred)"
      ],
      "metadata": {
        "id": "1GuHkO5RY_7Y"
      },
      "execution_count": null,
      "outputs": []
    },
    {
      "cell_type": "code",
      "source": [
        "import math\n",
        "from sklearn.metrics import mean_squared_error\n",
        "math.sqrt(mean_squared_error(Y_train,train_pred))"
      ],
      "metadata": {
        "colab": {
          "base_uri": "https://localhost:8080/"
        },
        "id": "xrB2908tZPUO",
        "outputId": "4a2bb942-2389-45b8-d9d4-cce8b233f05b"
      },
      "execution_count": null,
      "outputs": [
        {
          "output_type": "execute_result",
          "data": {
            "text/plain": [
              "82.85137323051069"
            ]
          },
          "metadata": {},
          "execution_count": 67
        }
      ]
    },
    {
      "cell_type": "code",
      "source": [
        "math.sqrt(mean_squared_error(Y_test,test_pred))\n"
      ],
      "metadata": {
        "colab": {
          "base_uri": "https://localhost:8080/"
        },
        "id": "QtsOf1zcXg6p",
        "outputId": "232f6926-366c-4532-cd43-18bc012759c5"
      },
      "execution_count": null,
      "outputs": [
        {
          "output_type": "execute_result",
          "data": {
            "text/plain": [
              "81.69579608445024"
            ]
          },
          "metadata": {},
          "execution_count": 68
        }
      ]
    },
    {
      "cell_type": "code",
      "source": [
        "look_back=100\n",
        "trainPredPlot=numpy.empty_like(df2)\n",
        "trainPredPlot[:,:]=np.nan\n",
        "trainPredPlot[look_back:len(train_pred)+look_back,:]=train_pred\n",
        "\n",
        "testPredPlot=numpy.empty_like(df2)\n",
        "testPredPlot[:,:]=numpy.nan\n",
        "testPredPlot[len(train_pred)+(look_back*2)+1:len(df2)-1,:]=test_pred\n",
        "\n",
        "plt.plot(scaler.inverse_transform(df2))\n",
        "plt.plot(trainPredPlot)\n",
        "plt.plot(testPredPlot)\n",
        "plt.show()\n",
        "\n"
      ],
      "metadata": {
        "colab": {
          "base_uri": "https://localhost:8080/",
          "height": 430
        },
        "id": "MuPFRm1aZ_NG",
        "outputId": "d0fff555-e2cd-4831-bb5c-4900661d91a2"
      },
      "execution_count": null,
      "outputs": [
        {
          "output_type": "display_data",
          "data": {
            "text/plain": [
              "<Figure size 640x480 with 1 Axes>"
            ],
            "image/png": "[encoded data removed]"
          },
          "metadata": {}
        }
      ]
    },
    {
      "cell_type": "code",
      "source": [
        "len(test_data)"
      ],
      "metadata": {
        "colab": {
          "base_uri": "https://localhost:8080/"
        },
        "id": "1RAuTS1rcCLR",
        "outputId": "c925f886-508d-4de3-ffc0-420c87a45bc8"
      },
      "execution_count": null,
      "outputs": [
        {
          "output_type": "execute_result",
          "data": {
            "text/plain": [
              "713"
            ]
          },
          "metadata": {},
          "execution_count": 71
        }
      ]
    },
    {
      "cell_type": "code",
      "source": [
        "x_input=test_data[613:].reshape(1,-1)\n",
        "x_input.shape"
      ],
      "metadata": {
        "colab": {
          "base_uri": "https://localhost:8080/"
        },
        "id": "oFV2pKY9cVP7",
        "outputId": "d71b37c0-0ae9-4702-ba48-565c821d7b37"
      },
      "execution_count": null,
      "outputs": [
        {
          "output_type": "execute_result",
          "data": {
            "text/plain": [
              "(1, 100)"
            ]
          },
          "metadata": {},
          "execution_count": 72
        }
      ]
    },
    {
      "cell_type": "code",
      "source": [
        "temp_input=list(x_input)\n",
        "temp_input=temp_input[0].tolist()"
      ],
      "metadata": {
        "id": "-uvFl6ELcgOr"
      },
      "execution_count": null,
      "outputs": []
    },
    {
      "cell_type": "code",
      "source": [
        "from numpy import array\n",
        "lst_output=[]\n",
        "n_steps=100\n",
        "i=0\n",
        "while(i<30):\n",
        "    if(len(temp_input)>100):\n",
        "        x_input=np.array(temp_input[1:])\n",
        "        print(\"{} day input {}\".format(i,x_input))\n",
        "        x_input=x_input.reshape(1,-1)\n",
        "        x_input = x_input.reshape((1, n_steps, 1))\n",
        "        #print(x_input)\n",
        "        yhat = model.predict(x_input, verbose=0)\n",
        "        print(\"{} day output {}\".format(i,yhat))\n",
        "        temp_input.extend(yhat[0].tolist())\n",
        "        temp_input=temp_input[1:]\n",
        "        #print(temp_input)\n",
        "        lst_output.extend(yhat.tolist())\n",
        "        i=i+1\n",
        "    else:\n",
        "        x_input = x_input.reshape((1, n_steps,1))\n",
        "        yhat = model.predict(x_input, verbose=0)\n",
        "        print(yhat[0])\n",
        "        temp_input.extend(yhat[0].tolist())\n",
        "        print(len(temp_input))\n",
        "        lst_output.extend(yhat.tolist())\n",
        "        i=i+1\n",
        "    \n",
        "\n",
        "print(lst_output)"
      ],
      "metadata": {
        "colab": {
          "base_uri": "https://localhost:8080/"
        },
        "id": "4BZMTzJJcsyR",
        "outputId": "1c4af2ef-b68d-4d8e-fe7d-6808d2cb4508"
      },
      "execution_count": null,
      "outputs": [
        {
          "output_type": "stream",
          "name": "stdout",
          "text": [
            "[-0.00819633]\n",
            "101\n",
            "1 day input [ 0.13848039  0.14011438  0.13888889  0.13541667  0.14011438  0.1380719\n",
            "  0.13071895  0.13071895  0.12867647  0.11846405  0.14644608  0.14808007\n",
            "  0.15910948  0.15992647  0.15788399  0.16441993  0.17892157  0.17933007\n",
            "  0.19260621  0.20812908  0.18974673  0.18055556  0.18239379  0.17708333\n",
            "  0.17810458  0.18055556  0.17810458  0.17851307  0.19607843  0.18913399\n",
            "  0.18954248  0.19403595  0.19444444  0.20200163  0.19771242  0.19934641\n",
            "  0.19873366  0.1997549   0.2128268   0.21568627  0.20445261  0.21772876\n",
            "  0.21098856  0.21425654  0.19750817  0.18811275  0.17851307  0.17381536\n",
            "  0.16033497  0.16564542  0.17116013  0.17422386  0.18035131  0.17401961\n",
            "  0.16278595  0.16973039  0.17810458  0.17034314  0.16830065  0.17279412\n",
            "  0.17544935  0.18382353  0.19138072  0.18913399  0.19097222  0.17238562\n",
            "  0.16830065  0.1693219   0.17177288  0.16156046  0.14971405  0.1503268\n",
            "  0.15196078  0.14726307  0.14501634  0.14603758  0.12479575  0.13112745\n",
            "  0.11397059  0.1190768   0.12377451  0.13562092  0.12908497  0.13459967\n",
            "  0.12806373  0.13031046  0.12724673  0.13521242  0.14522059  0.15257353\n",
            "  0.14848856  0.14338235  0.14562908  0.15236928  0.15400327  0.14971405\n",
            "  0.1621732   0.16319444  0.16584967 -0.00819633]\n",
            "1 day output [[-0.00832449]]\n",
            "2 day input [ 0.14011438  0.13888889  0.13541667  0.14011438  0.1380719   0.13071895\n",
            "  0.13071895  0.12867647  0.11846405  0.14644608  0.14808007  0.15910948\n",
            "  0.15992647  0.15788399  0.16441993  0.17892157  0.17933007  0.19260621\n",
            "  0.20812908  0.18974673  0.18055556  0.18239379  0.17708333  0.17810458\n",
            "  0.18055556  0.17810458  0.17851307  0.19607843  0.18913399  0.18954248\n",
            "  0.19403595  0.19444444  0.20200163  0.19771242  0.19934641  0.19873366\n",
            "  0.1997549   0.2128268   0.21568627  0.20445261  0.21772876  0.21098856\n",
            "  0.21425654  0.19750817  0.18811275  0.17851307  0.17381536  0.16033497\n",
            "  0.16564542  0.17116013  0.17422386  0.18035131  0.17401961  0.16278595\n",
            "  0.16973039  0.17810458  0.17034314  0.16830065  0.17279412  0.17544935\n",
            "  0.18382353  0.19138072  0.18913399  0.19097222  0.17238562  0.16830065\n",
            "  0.1693219   0.17177288  0.16156046  0.14971405  0.1503268   0.15196078\n",
            "  0.14726307  0.14501634  0.14603758  0.12479575  0.13112745  0.11397059\n",
            "  0.1190768   0.12377451  0.13562092  0.12908497  0.13459967  0.12806373\n",
            "  0.13031046  0.12724673  0.13521242  0.14522059  0.15257353  0.14848856\n",
            "  0.14338235  0.14562908  0.15236928  0.15400327  0.14971405  0.1621732\n",
            "  0.16319444  0.16584967 -0.00819633 -0.00832449]\n",
            "2 day output [[-0.0085453]]\n",
            "3 day input [ 0.13888889  0.13541667  0.14011438  0.1380719   0.13071895  0.13071895\n",
            "  0.12867647  0.11846405  0.14644608  0.14808007  0.15910948  0.15992647\n",
            "  0.15788399  0.16441993  0.17892157  0.17933007  0.19260621  0.20812908\n",
            "  0.18974673  0.18055556  0.18239379  0.17708333  0.17810458  0.18055556\n",
            "  0.17810458  0.17851307  0.19607843  0.18913399  0.18954248  0.19403595\n",
            "  0.19444444  0.20200163  0.19771242  0.19934641  0.19873366  0.1997549\n",
            "  0.2128268   0.21568627  0.20445261  0.21772876  0.21098856  0.21425654\n",
            "  0.19750817  0.18811275  0.17851307  0.17381536  0.16033497  0.16564542\n",
            "  0.17116013  0.17422386  0.18035131  0.17401961  0.16278595  0.16973039\n",
            "  0.17810458  0.17034314  0.16830065  0.17279412  0.17544935  0.18382353\n",
            "  0.19138072  0.18913399  0.19097222  0.17238562  0.16830065  0.1693219\n",
            "  0.17177288  0.16156046  0.14971405  0.1503268   0.15196078  0.14726307\n",
            "  0.14501634  0.14603758  0.12479575  0.13112745  0.11397059  0.1190768\n",
            "  0.12377451  0.13562092  0.12908497  0.13459967  0.12806373  0.13031046\n",
            "  0.12724673  0.13521242  0.14522059  0.15257353  0.14848856  0.14338235\n",
            "  0.14562908  0.15236928  0.15400327  0.14971405  0.1621732   0.16319444\n",
            "  0.16584967 -0.00819633 -0.00832449 -0.0085453 ]\n",
            "3 day output [[-0.0087731]]\n",
            "4 day input [ 0.13541667  0.14011438  0.1380719   0.13071895  0.13071895  0.12867647\n",
            "  0.11846405  0.14644608  0.14808007  0.15910948  0.15992647  0.15788399\n",
            "  0.16441993  0.17892157  0.17933007  0.19260621  0.20812908  0.18974673\n",
            "  0.18055556  0.18239379  0.17708333  0.17810458  0.18055556  0.17810458\n",
            "  0.17851307  0.19607843  0.18913399  0.18954248  0.19403595  0.19444444\n",
            "  0.20200163  0.19771242  0.19934641  0.19873366  0.1997549   0.2128268\n",
            "  0.21568627  0.20445261  0.21772876  0.21098856  0.21425654  0.19750817\n",
            "  0.18811275  0.17851307  0.17381536  0.16033497  0.16564542  0.17116013\n",
            "  0.17422386  0.18035131  0.17401961  0.16278595  0.16973039  0.17810458\n",
            "  0.17034314  0.16830065  0.17279412  0.17544935  0.18382353  0.19138072\n",
            "  0.18913399  0.19097222  0.17238562  0.16830065  0.1693219   0.17177288\n",
            "  0.16156046  0.14971405  0.1503268   0.15196078  0.14726307  0.14501634\n",
            "  0.14603758  0.12479575  0.13112745  0.11397059  0.1190768   0.12377451\n",
            "  0.13562092  0.12908497  0.13459967  0.12806373  0.13031046  0.12724673\n",
            "  0.13521242  0.14522059  0.15257353  0.14848856  0.14338235  0.14562908\n",
            "  0.15236928  0.15400327  0.14971405  0.1621732   0.16319444  0.16584967\n",
            " -0.00819633 -0.00832449 -0.0085453  -0.0087731 ]\n",
            "4 day output [[-0.00893692]]\n",
            "5 day input [ 0.14011438  0.1380719   0.13071895  0.13071895  0.12867647  0.11846405\n",
            "  0.14644608  0.14808007  0.15910948  0.15992647  0.15788399  0.16441993\n",
            "  0.17892157  0.17933007  0.19260621  0.20812908  0.18974673  0.18055556\n",
            "  0.18239379  0.17708333  0.17810458  0.18055556  0.17810458  0.17851307\n",
            "  0.19607843  0.18913399  0.18954248  0.19403595  0.19444444  0.20200163\n",
            "  0.19771242  0.19934641  0.19873366  0.1997549   0.2128268   0.21568627\n",
            "  0.20445261  0.21772876  0.21098856  0.21425654  0.19750817  0.18811275\n",
            "  0.17851307  0.17381536  0.16033497  0.16564542  0.17116013  0.17422386\n",
            "  0.18035131  0.17401961  0.16278595  0.16973039  0.17810458  0.17034314\n",
            "  0.16830065  0.17279412  0.17544935  0.18382353  0.19138072  0.18913399\n",
            "  0.19097222  0.17238562  0.16830065  0.1693219   0.17177288  0.16156046\n",
            "  0.14971405  0.1503268   0.15196078  0.14726307  0.14501634  0.14603758\n",
            "  0.12479575  0.13112745  0.11397059  0.1190768   0.12377451  0.13562092\n",
            "  0.12908497  0.13459967  0.12806373  0.13031046  0.12724673  0.13521242\n",
            "  0.14522059  0.15257353  0.14848856  0.14338235  0.14562908  0.15236928\n",
            "  0.15400327  0.14971405  0.1621732   0.16319444  0.16584967 -0.00819633\n",
            " -0.00832449 -0.0085453  -0.0087731  -0.00893692]\n",
            "5 day output [[-0.00899407]]\n",
            "6 day input [ 0.1380719   0.13071895  0.13071895  0.12867647  0.11846405  0.14644608\n",
            "  0.14808007  0.15910948  0.15992647  0.15788399  0.16441993  0.17892157\n",
            "  0.17933007  0.19260621  0.20812908  0.18974673  0.18055556  0.18239379\n",
            "  0.17708333  0.17810458  0.18055556  0.17810458  0.17851307  0.19607843\n",
            "  0.18913399  0.18954248  0.19403595  0.19444444  0.20200163  0.19771242\n",
            "  0.19934641  0.19873366  0.1997549   0.2128268   0.21568627  0.20445261\n",
            "  0.21772876  0.21098856  0.21425654  0.19750817  0.18811275  0.17851307\n",
            "  0.17381536  0.16033497  0.16564542  0.17116013  0.17422386  0.18035131\n",
            "  0.17401961  0.16278595  0.16973039  0.17810458  0.17034314  0.16830065\n",
            "  0.17279412  0.17544935  0.18382353  0.19138072  0.18913399  0.19097222\n",
            "  0.17238562  0.16830065  0.1693219   0.17177288  0.16156046  0.14971405\n",
            "  0.1503268   0.15196078  0.14726307  0.14501634  0.14603758  0.12479575\n",
            "  0.13112745  0.11397059  0.1190768   0.12377451  0.13562092  0.12908497\n",
            "  0.13459967  0.12806373  0.13031046  0.12724673  0.13521242  0.14522059\n",
            "  0.15257353  0.14848856  0.14338235  0.14562908  0.15236928  0.15400327\n",
            "  0.14971405  0.1621732   0.16319444  0.16584967 -0.00819633 -0.00832449\n",
            " -0.0085453  -0.0087731  -0.00893692 -0.00899407]\n",
            "6 day output [[-0.00892797]]\n",
            "7 day input [ 0.13071895  0.13071895  0.12867647  0.11846405  0.14644608  0.14808007\n",
            "  0.15910948  0.15992647  0.15788399  0.16441993  0.17892157  0.17933007\n",
            "  0.19260621  0.20812908  0.18974673  0.18055556  0.18239379  0.17708333\n",
            "  0.17810458  0.18055556  0.17810458  0.17851307  0.19607843  0.18913399\n",
            "  0.18954248  0.19403595  0.19444444  0.20200163  0.19771242  0.19934641\n",
            "  0.19873366  0.1997549   0.2128268   0.21568627  0.20445261  0.21772876\n",
            "  0.21098856  0.21425654  0.19750817  0.18811275  0.17851307  0.17381536\n",
            "  0.16033497  0.16564542  0.17116013  0.17422386  0.18035131  0.17401961\n",
            "  0.16278595  0.16973039  0.17810458  0.17034314  0.16830065  0.17279412\n",
            "  0.17544935  0.18382353  0.19138072  0.18913399  0.19097222  0.17238562\n",
            "  0.16830065  0.1693219   0.17177288  0.16156046  0.14971405  0.1503268\n",
            "  0.15196078  0.14726307  0.14501634  0.14603758  0.12479575  0.13112745\n",
            "  0.11397059  0.1190768   0.12377451  0.13562092  0.12908497  0.13459967\n",
            "  0.12806373  0.13031046  0.12724673  0.13521242  0.14522059  0.15257353\n",
            "  0.14848856  0.14338235  0.14562908  0.15236928  0.15400327  0.14971405\n",
            "  0.1621732   0.16319444  0.16584967 -0.00819633 -0.00832449 -0.0085453\n",
            " -0.0087731  -0.00893692 -0.00899407 -0.00892797]\n",
            "7 day output [[-0.00874106]]\n",
            "8 day input [ 0.13071895  0.12867647  0.11846405  0.14644608  0.14808007  0.15910948\n",
            "  0.15992647  0.15788399  0.16441993  0.17892157  0.17933007  0.19260621\n",
            "  0.20812908  0.18974673  0.18055556  0.18239379  0.17708333  0.17810458\n",
            "  0.18055556  0.17810458  0.17851307  0.19607843  0.18913399  0.18954248\n",
            "  0.19403595  0.19444444  0.20200163  0.19771242  0.19934641  0.19873366\n",
            "  0.1997549   0.2128268   0.21568627  0.20445261  0.21772876  0.21098856\n",
            "  0.21425654  0.19750817  0.18811275  0.17851307  0.17381536  0.16033497\n",
            "  0.16564542  0.17116013  0.17422386  0.18035131  0.17401961  0.16278595\n",
            "  0.16973039  0.17810458  0.17034314  0.16830065  0.17279412  0.17544935\n",
            "  0.18382353  0.19138072  0.18913399  0.19097222  0.17238562  0.16830065\n",
            "  0.1693219   0.17177288  0.16156046  0.14971405  0.1503268   0.15196078\n",
            "  0.14726307  0.14501634  0.14603758  0.12479575  0.13112745  0.11397059\n",
            "  0.1190768   0.12377451  0.13562092  0.12908497  0.13459967  0.12806373\n",
            "  0.13031046  0.12724673  0.13521242  0.14522059  0.15257353  0.14848856\n",
            "  0.14338235  0.14562908  0.15236928  0.15400327  0.14971405  0.1621732\n",
            "  0.16319444  0.16584967 -0.00819633 -0.00832449 -0.0085453  -0.0087731\n",
            " -0.00893692 -0.00899407 -0.00892797 -0.00874106]\n",
            "8 day output [[-0.0084476]]\n",
            "9 day input [ 0.12867647  0.11846405  0.14644608  0.14808007  0.15910948  0.15992647\n",
            "  0.15788399  0.16441993  0.17892157  0.17933007  0.19260621  0.20812908\n",
            "  0.18974673  0.18055556  0.18239379  0.17708333  0.17810458  0.18055556\n",
            "  0.17810458  0.17851307  0.19607843  0.18913399  0.18954248  0.19403595\n",
            "  0.19444444  0.20200163  0.19771242  0.19934641  0.19873366  0.1997549\n",
            "  0.2128268   0.21568627  0.20445261  0.21772876  0.21098856  0.21425654\n",
            "  0.19750817  0.18811275  0.17851307  0.17381536  0.16033497  0.16564542\n",
            "  0.17116013  0.17422386  0.18035131  0.17401961  0.16278595  0.16973039\n",
            "  0.17810458  0.17034314  0.16830065  0.17279412  0.17544935  0.18382353\n",
            "  0.19138072  0.18913399  0.19097222  0.17238562  0.16830065  0.1693219\n",
            "  0.17177288  0.16156046  0.14971405  0.1503268   0.15196078  0.14726307\n",
            "  0.14501634  0.14603758  0.12479575  0.13112745  0.11397059  0.1190768\n",
            "  0.12377451  0.13562092  0.12908497  0.13459967  0.12806373  0.13031046\n",
            "  0.12724673  0.13521242  0.14522059  0.15257353  0.14848856  0.14338235\n",
            "  0.14562908  0.15236928  0.15400327  0.14971405  0.1621732   0.16319444\n",
            "  0.16584967 -0.00819633 -0.00832449 -0.0085453  -0.0087731  -0.00893692\n",
            " -0.00899407 -0.00892797 -0.00874106 -0.0084476 ]\n",
            "9 day output [[-0.00806777]]\n",
            "10 day input [ 0.11846405  0.14644608  0.14808007  0.15910948  0.15992647  0.15788399\n",
            "  0.16441993  0.17892157  0.17933007  0.19260621  0.20812908  0.18974673\n",
            "  0.18055556  0.18239379  0.17708333  0.17810458  0.18055556  0.17810458\n",
            "  0.17851307  0.19607843  0.18913399  0.18954248  0.19403595  0.19444444\n",
            "  0.20200163  0.19771242  0.19934641  0.19873366  0.1997549   0.2128268\n",
            "  0.21568627  0.20445261  0.21772876  0.21098856  0.21425654  0.19750817\n",
            "  0.18811275  0.17851307  0.17381536  0.16033497  0.16564542  0.17116013\n",
            "  0.17422386  0.18035131  0.17401961  0.16278595  0.16973039  0.17810458\n",
            "  0.17034314  0.16830065  0.17279412  0.17544935  0.18382353  0.19138072\n",
            "  0.18913399  0.19097222  0.17238562  0.16830065  0.1693219   0.17177288\n",
            "  0.16156046  0.14971405  0.1503268   0.15196078  0.14726307  0.14501634\n",
            "  0.14603758  0.12479575  0.13112745  0.11397059  0.1190768   0.12377451\n",
            "  0.13562092  0.12908497  0.13459967  0.12806373  0.13031046  0.12724673\n",
            "  0.13521242  0.14522059  0.15257353  0.14848856  0.14338235  0.14562908\n",
            "  0.15236928  0.15400327  0.14971405  0.1621732   0.16319444  0.16584967\n",
            " -0.00819633 -0.00832449 -0.0085453  -0.0087731  -0.00893692 -0.00899407\n",
            " -0.00892797 -0.00874106 -0.0084476  -0.00806777]\n",
            "10 day output [[-0.00762357]]\n",
            "11 day input [ 0.14644608  0.14808007  0.15910948  0.15992647  0.15788399  0.16441993\n",
            "  0.17892157  0.17933007  0.19260621  0.20812908  0.18974673  0.18055556\n",
            "  0.18239379  0.17708333  0.17810458  0.18055556  0.17810458  0.17851307\n",
            "  0.19607843  0.18913399  0.18954248  0.19403595  0.19444444  0.20200163\n",
            "  0.19771242  0.19934641  0.19873366  0.1997549   0.2128268   0.21568627\n",
            "  0.20445261  0.21772876  0.21098856  0.21425654  0.19750817  0.18811275\n",
            "  0.17851307  0.17381536  0.16033497  0.16564542  0.17116013  0.17422386\n",
            "  0.18035131  0.17401961  0.16278595  0.16973039  0.17810458  0.17034314\n",
            "  0.16830065  0.17279412  0.17544935  0.18382353  0.19138072  0.18913399\n",
            "  0.19097222  0.17238562  0.16830065  0.1693219   0.17177288  0.16156046\n",
            "  0.14971405  0.1503268   0.15196078  0.14726307  0.14501634  0.14603758\n",
            "  0.12479575  0.13112745  0.11397059  0.1190768   0.12377451  0.13562092\n",
            "  0.12908497  0.13459967  0.12806373  0.13031046  0.12724673  0.13521242\n",
            "  0.14522059  0.15257353  0.14848856  0.14338235  0.14562908  0.15236928\n",
            "  0.15400327  0.14971405  0.1621732   0.16319444  0.16584967 -0.00819633\n",
            " -0.00832449 -0.0085453  -0.0087731  -0.00893692 -0.00899407 -0.00892797\n",
            " -0.00874106 -0.0084476  -0.00806777 -0.00762357]\n",
            "11 day output [[-0.0071362]]\n",
            "12 day input [ 0.14808007  0.15910948  0.15992647  0.15788399  0.16441993  0.17892157\n",
            "  0.17933007  0.19260621  0.20812908  0.18974673  0.18055556  0.18239379\n",
            "  0.17708333  0.17810458  0.18055556  0.17810458  0.17851307  0.19607843\n",
            "  0.18913399  0.18954248  0.19403595  0.19444444  0.20200163  0.19771242\n",
            "  0.19934641  0.19873366  0.1997549   0.2128268   0.21568627  0.20445261\n",
            "  0.21772876  0.21098856  0.21425654  0.19750817  0.18811275  0.17851307\n",
            "  0.17381536  0.16033497  0.16564542  0.17116013  0.17422386  0.18035131\n",
            "  0.17401961  0.16278595  0.16973039  0.17810458  0.17034314  0.16830065\n",
            "  0.17279412  0.17544935  0.18382353  0.19138072  0.18913399  0.19097222\n",
            "  0.17238562  0.16830065  0.1693219   0.17177288  0.16156046  0.14971405\n",
            "  0.1503268   0.15196078  0.14726307  0.14501634  0.14603758  0.12479575\n",
            "  0.13112745  0.11397059  0.1190768   0.12377451  0.13562092  0.12908497\n",
            "  0.13459967  0.12806373  0.13031046  0.12724673  0.13521242  0.14522059\n",
            "  0.15257353  0.14848856  0.14338235  0.14562908  0.15236928  0.15400327\n",
            "  0.14971405  0.1621732   0.16319444  0.16584967 -0.00819633 -0.00832449\n",
            " -0.0085453  -0.0087731  -0.00893692 -0.00899407 -0.00892797 -0.00874106\n",
            " -0.0084476  -0.00806777 -0.00762357 -0.0071362 ]\n",
            "12 day output [[-0.00662457]]\n",
            "13 day input [ 0.15910948  0.15992647  0.15788399  0.16441993  0.17892157  0.17933007\n",
            "  0.19260621  0.20812908  0.18974673  0.18055556  0.18239379  0.17708333\n",
            "  0.17810458  0.18055556  0.17810458  0.17851307  0.19607843  0.18913399\n",
            "  0.18954248  0.19403595  0.19444444  0.20200163  0.19771242  0.19934641\n",
            "  0.19873366  0.1997549   0.2128268   0.21568627  0.20445261  0.21772876\n",
            "  0.21098856  0.21425654  0.19750817  0.18811275  0.17851307  0.17381536\n",
            "  0.16033497  0.16564542  0.17116013  0.17422386  0.18035131  0.17401961\n",
            "  0.16278595  0.16973039  0.17810458  0.17034314  0.16830065  0.17279412\n",
            "  0.17544935  0.18382353  0.19138072  0.18913399  0.19097222  0.17238562\n",
            "  0.16830065  0.1693219   0.17177288  0.16156046  0.14971405  0.1503268\n",
            "  0.15196078  0.14726307  0.14501634  0.14603758  0.12479575  0.13112745\n",
            "  0.11397059  0.1190768   0.12377451  0.13562092  0.12908497  0.13459967\n",
            "  0.12806373  0.13031046  0.12724673  0.13521242  0.14522059  0.15257353\n",
            "  0.14848856  0.14338235  0.14562908  0.15236928  0.15400327  0.14971405\n",
            "  0.1621732   0.16319444  0.16584967 -0.00819633 -0.00832449 -0.0085453\n",
            " -0.0087731  -0.00893692 -0.00899407 -0.00892797 -0.00874106 -0.0084476\n",
            " -0.00806777 -0.00762357 -0.0071362  -0.00662457]\n",
            "13 day output [[-0.00610459]]\n",
            "14 day input [ 0.15992647  0.15788399  0.16441993  0.17892157  0.17933007  0.19260621\n",
            "  0.20812908  0.18974673  0.18055556  0.18239379  0.17708333  0.17810458\n",
            "  0.18055556  0.17810458  0.17851307  0.19607843  0.18913399  0.18954248\n",
            "  0.19403595  0.19444444  0.20200163  0.19771242  0.19934641  0.19873366\n",
            "  0.1997549   0.2128268   0.21568627  0.20445261  0.21772876  0.21098856\n",
            "  0.21425654  0.19750817  0.18811275  0.17851307  0.17381536  0.16033497\n",
            "  0.16564542  0.17116013  0.17422386  0.18035131  0.17401961  0.16278595\n",
            "  0.16973039  0.17810458  0.17034314  0.16830065  0.17279412  0.17544935\n",
            "  0.18382353  0.19138072  0.18913399  0.19097222  0.17238562  0.16830065\n",
            "  0.1693219   0.17177288  0.16156046  0.14971405  0.1503268   0.15196078\n",
            "  0.14726307  0.14501634  0.14603758  0.12479575  0.13112745  0.11397059\n",
            "  0.1190768   0.12377451  0.13562092  0.12908497  0.13459967  0.12806373\n",
            "  0.13031046  0.12724673  0.13521242  0.14522059  0.15257353  0.14848856\n",
            "  0.14338235  0.14562908  0.15236928  0.15400327  0.14971405  0.1621732\n",
            "  0.16319444  0.16584967 -0.00819633 -0.00832449 -0.0085453  -0.0087731\n",
            " -0.00893692 -0.00899407 -0.00892797 -0.00874106 -0.0084476  -0.00806777\n",
            " -0.00762357 -0.0071362  -0.00662457 -0.00610459]\n",
            "14 day output [[-0.00558908]]\n",
            "15 day input [ 0.15788399  0.16441993  0.17892157  0.17933007  0.19260621  0.20812908\n",
            "  0.18974673  0.18055556  0.18239379  0.17708333  0.17810458  0.18055556\n",
            "  0.17810458  0.17851307  0.19607843  0.18913399  0.18954248  0.19403595\n",
            "  0.19444444  0.20200163  0.19771242  0.19934641  0.19873366  0.1997549\n",
            "  0.2128268   0.21568627  0.20445261  0.21772876  0.21098856  0.21425654\n",
            "  0.19750817  0.18811275  0.17851307  0.17381536  0.16033497  0.16564542\n",
            "  0.17116013  0.17422386  0.18035131  0.17401961  0.16278595  0.16973039\n",
            "  0.17810458  0.17034314  0.16830065  0.17279412  0.17544935  0.18382353\n",
            "  0.19138072  0.18913399  0.19097222  0.17238562  0.16830065  0.1693219\n",
            "  0.17177288  0.16156046  0.14971405  0.1503268   0.15196078  0.14726307\n",
            "  0.14501634  0.14603758  0.12479575  0.13112745  0.11397059  0.1190768\n",
            "  0.12377451  0.13562092  0.12908497  0.13459967  0.12806373  0.13031046\n",
            "  0.12724673  0.13521242  0.14522059  0.15257353  0.14848856  0.14338235\n",
            "  0.14562908  0.15236928  0.15400327  0.14971405  0.1621732   0.16319444\n",
            "  0.16584967 -0.00819633 -0.00832449 -0.0085453  -0.0087731  -0.00893692\n",
            " -0.00899407 -0.00892797 -0.00874106 -0.0084476  -0.00806777 -0.00762357\n",
            " -0.0071362  -0.00662457 -0.00610459 -0.00558908]\n",
            "15 day output [[-0.00508787]]\n",
            "16 day input [ 0.16441993  0.17892157  0.17933007  0.19260621  0.20812908  0.18974673\n",
            "  0.18055556  0.18239379  0.17708333  0.17810458  0.18055556  0.17810458\n",
            "  0.17851307  0.19607843  0.18913399  0.18954248  0.19403595  0.19444444\n",
            "  0.20200163  0.19771242  0.19934641  0.19873366  0.1997549   0.2128268\n",
            "  0.21568627  0.20445261  0.21772876  0.21098856  0.21425654  0.19750817\n",
            "  0.18811275  0.17851307  0.17381536  0.16033497  0.16564542  0.17116013\n",
            "  0.17422386  0.18035131  0.17401961  0.16278595  0.16973039  0.17810458\n",
            "  0.17034314  0.16830065  0.17279412  0.17544935  0.18382353  0.19138072\n",
            "  0.18913399  0.19097222  0.17238562  0.16830065  0.1693219   0.17177288\n",
            "  0.16156046  0.14971405  0.1503268   0.15196078  0.14726307  0.14501634\n",
            "  0.14603758  0.12479575  0.13112745  0.11397059  0.1190768   0.12377451\n",
            "  0.13562092  0.12908497  0.13459967  0.12806373  0.13031046  0.12724673\n",
            "  0.13521242  0.14522059  0.15257353  0.14848856  0.14338235  0.14562908\n",
            "  0.15236928  0.15400327  0.14971405  0.1621732   0.16319444  0.16584967\n",
            " -0.00819633 -0.00832449 -0.0085453  -0.0087731  -0.00893692 -0.00899407\n",
            " -0.00892797 -0.00874106 -0.0084476  -0.00806777 -0.00762357 -0.0071362\n",
            " -0.00662457 -0.00610459 -0.00558908 -0.00508787]\n",
            "16 day output [[-0.00460812]]\n",
            "17 day input [ 0.17892157  0.17933007  0.19260621  0.20812908  0.18974673  0.18055556\n",
            "  0.18239379  0.17708333  0.17810458  0.18055556  0.17810458  0.17851307\n",
            "  0.19607843  0.18913399  0.18954248  0.19403595  0.19444444  0.20200163\n",
            "  0.19771242  0.19934641  0.19873366  0.1997549   0.2128268   0.21568627\n",
            "  0.20445261  0.21772876  0.21098856  0.21425654  0.19750817  0.18811275\n",
            "  0.17851307  0.17381536  0.16033497  0.16564542  0.17116013  0.17422386\n",
            "  0.18035131  0.17401961  0.16278595  0.16973039  0.17810458  0.17034314\n",
            "  0.16830065  0.17279412  0.17544935  0.18382353  0.19138072  0.18913399\n",
            "  0.19097222  0.17238562  0.16830065  0.1693219   0.17177288  0.16156046\n",
            "  0.14971405  0.1503268   0.15196078  0.14726307  0.14501634  0.14603758\n",
            "  0.12479575  0.13112745  0.11397059  0.1190768   0.12377451  0.13562092\n",
            "  0.12908497  0.13459967  0.12806373  0.13031046  0.12724673  0.13521242\n",
            "  0.14522059  0.15257353  0.14848856  0.14338235  0.14562908  0.15236928\n",
            "  0.15400327  0.14971405  0.1621732   0.16319444  0.16584967 -0.00819633\n",
            " -0.00832449 -0.0085453  -0.0087731  -0.00893692 -0.00899407 -0.00892797\n",
            " -0.00874106 -0.0084476  -0.00806777 -0.00762357 -0.0071362  -0.00662457\n",
            " -0.00610459 -0.00558908 -0.00508787 -0.00460812]\n",
            "17 day output [[-0.00415476]]\n",
            "18 day input [ 0.17933007  0.19260621  0.20812908  0.18974673  0.18055556  0.18239379\n",
            "  0.17708333  0.17810458  0.18055556  0.17810458  0.17851307  0.19607843\n",
            "  0.18913399  0.18954248  0.19403595  0.19444444  0.20200163  0.19771242\n",
            "  0.19934641  0.19873366  0.1997549   0.2128268   0.21568627  0.20445261\n",
            "  0.21772876  0.21098856  0.21425654  0.19750817  0.18811275  0.17851307\n",
            "  0.17381536  0.16033497  0.16564542  0.17116013  0.17422386  0.18035131\n",
            "  0.17401961  0.16278595  0.16973039  0.17810458  0.17034314  0.16830065\n",
            "  0.17279412  0.17544935  0.18382353  0.19138072  0.18913399  0.19097222\n",
            "  0.17238562  0.16830065  0.1693219   0.17177288  0.16156046  0.14971405\n",
            "  0.1503268   0.15196078  0.14726307  0.14501634  0.14603758  0.12479575\n",
            "  0.13112745  0.11397059  0.1190768   0.12377451  0.13562092  0.12908497\n",
            "  0.13459967  0.12806373  0.13031046  0.12724673  0.13521242  0.14522059\n",
            "  0.15257353  0.14848856  0.14338235  0.14562908  0.15236928  0.15400327\n",
            "  0.14971405  0.1621732   0.16319444  0.16584967 -0.00819633 -0.00832449\n",
            " -0.0085453  -0.0087731  -0.00893692 -0.00899407 -0.00892797 -0.00874106\n",
            " -0.0084476  -0.00806777 -0.00762357 -0.0071362  -0.00662457 -0.00610459\n",
            " -0.00558908 -0.00508787 -0.00460812 -0.00415476]\n",
            "18 day output [[-0.00373085]]\n",
            "19 day input [ 0.19260621  0.20812908  0.18974673  0.18055556  0.18239379  0.17708333\n",
            "  0.17810458  0.18055556  0.17810458  0.17851307  0.19607843  0.18913399\n",
            "  0.18954248  0.19403595  0.19444444  0.20200163  0.19771242  0.19934641\n",
            "  0.19873366  0.1997549   0.2128268   0.21568627  0.20445261  0.21772876\n",
            "  0.21098856  0.21425654  0.19750817  0.18811275  0.17851307  0.17381536\n",
            "  0.16033497  0.16564542  0.17116013  0.17422386  0.18035131  0.17401961\n",
            "  0.16278595  0.16973039  0.17810458  0.17034314  0.16830065  0.17279412\n",
            "  0.17544935  0.18382353  0.19138072  0.18913399  0.19097222  0.17238562\n",
            "  0.16830065  0.1693219   0.17177288  0.16156046  0.14971405  0.1503268\n",
            "  0.15196078  0.14726307  0.14501634  0.14603758  0.12479575  0.13112745\n",
            "  0.11397059  0.1190768   0.12377451  0.13562092  0.12908497  0.13459967\n",
            "  0.12806373  0.13031046  0.12724673  0.13521242  0.14522059  0.15257353\n",
            "  0.14848856  0.14338235  0.14562908  0.15236928  0.15400327  0.14971405\n",
            "  0.1621732   0.16319444  0.16584967 -0.00819633 -0.00832449 -0.0085453\n",
            " -0.0087731  -0.00893692 -0.00899407 -0.00892797 -0.00874106 -0.0084476\n",
            " -0.00806777 -0.00762357 -0.0071362  -0.00662457 -0.00610459 -0.00558908\n",
            " -0.00508787 -0.00460812 -0.00415476 -0.00373085]\n",
            "19 day output [[-0.00333797]]\n",
            "20 day input [ 0.20812908  0.18974673  0.18055556  0.18239379  0.17708333  0.17810458\n",
            "  0.18055556  0.17810458  0.17851307  0.19607843  0.18913399  0.18954248\n",
            "  0.19403595  0.19444444  0.20200163  0.19771242  0.19934641  0.19873366\n",
            "  0.1997549   0.2128268   0.21568627  0.20445261  0.21772876  0.21098856\n",
            "  0.21425654  0.19750817  0.18811275  0.17851307  0.17381536  0.16033497\n",
            "  0.16564542  0.17116013  0.17422386  0.18035131  0.17401961  0.16278595\n",
            "  0.16973039  0.17810458  0.17034314  0.16830065  0.17279412  0.17544935\n",
            "  0.18382353  0.19138072  0.18913399  0.19097222  0.17238562  0.16830065\n",
            "  0.1693219   0.17177288  0.16156046  0.14971405  0.1503268   0.15196078\n",
            "  0.14726307  0.14501634  0.14603758  0.12479575  0.13112745  0.11397059\n",
            "  0.1190768   0.12377451  0.13562092  0.12908497  0.13459967  0.12806373\n",
            "  0.13031046  0.12724673  0.13521242  0.14522059  0.15257353  0.14848856\n",
            "  0.14338235  0.14562908  0.15236928  0.15400327  0.14971405  0.1621732\n",
            "  0.16319444  0.16584967 -0.00819633 -0.00832449 -0.0085453  -0.0087731\n",
            " -0.00893692 -0.00899407 -0.00892797 -0.00874106 -0.0084476  -0.00806777\n",
            " -0.00762357 -0.0071362  -0.00662457 -0.00610459 -0.00558908 -0.00508787\n",
            " -0.00460812 -0.00415476 -0.00373085 -0.00333797]\n",
            "20 day output [[-0.00297657]]\n",
            "21 day input [ 0.18974673  0.18055556  0.18239379  0.17708333  0.17810458  0.18055556\n",
            "  0.17810458  0.17851307  0.19607843  0.18913399  0.18954248  0.19403595\n",
            "  0.19444444  0.20200163  0.19771242  0.19934641  0.19873366  0.1997549\n",
            "  0.2128268   0.21568627  0.20445261  0.21772876  0.21098856  0.21425654\n",
            "  0.19750817  0.18811275  0.17851307  0.17381536  0.16033497  0.16564542\n",
            "  0.17116013  0.17422386  0.18035131  0.17401961  0.16278595  0.16973039\n",
            "  0.17810458  0.17034314  0.16830065  0.17279412  0.17544935  0.18382353\n",
            "  0.19138072  0.18913399  0.19097222  0.17238562  0.16830065  0.1693219\n",
            "  0.17177288  0.16156046  0.14971405  0.1503268   0.15196078  0.14726307\n",
            "  0.14501634  0.14603758  0.12479575  0.13112745  0.11397059  0.1190768\n",
            "  0.12377451  0.13562092  0.12908497  0.13459967  0.12806373  0.13031046\n",
            "  0.12724673  0.13521242  0.14522059  0.15257353  0.14848856  0.14338235\n",
            "  0.14562908  0.15236928  0.15400327  0.14971405  0.1621732   0.16319444\n",
            "  0.16584967 -0.00819633 -0.00832449 -0.0085453  -0.0087731  -0.00893692\n",
            " -0.00899407 -0.00892797 -0.00874106 -0.0084476  -0.00806777 -0.00762357\n",
            " -0.0071362  -0.00662457 -0.00610459 -0.00558908 -0.00508787 -0.00460812\n",
            " -0.00415476 -0.00373085 -0.00333797 -0.00297657]\n",
            "21 day output [[-0.00264622]]\n",
            "22 day input [ 0.18055556  0.18239379  0.17708333  0.17810458  0.18055556  0.17810458\n",
            "  0.17851307  0.19607843  0.18913399  0.18954248  0.19403595  0.19444444\n",
            "  0.20200163  0.19771242  0.19934641  0.19873366  0.1997549   0.2128268\n",
            "  0.21568627  0.20445261  0.21772876  0.21098856  0.21425654  0.19750817\n",
            "  0.18811275  0.17851307  0.17381536  0.16033497  0.16564542  0.17116013\n",
            "  0.17422386  0.18035131  0.17401961  0.16278595  0.16973039  0.17810458\n",
            "  0.17034314  0.16830065  0.17279412  0.17544935  0.18382353  0.19138072\n",
            "  0.18913399  0.19097222  0.17238562  0.16830065  0.1693219   0.17177288\n",
            "  0.16156046  0.14971405  0.1503268   0.15196078  0.14726307  0.14501634\n",
            "  0.14603758  0.12479575  0.13112745  0.11397059  0.1190768   0.12377451\n",
            "  0.13562092  0.12908497  0.13459967  0.12806373  0.13031046  0.12724673\n",
            "  0.13521242  0.14522059  0.15257353  0.14848856  0.14338235  0.14562908\n",
            "  0.15236928  0.15400327  0.14971405  0.1621732   0.16319444  0.16584967\n",
            " -0.00819633 -0.00832449 -0.0085453  -0.0087731  -0.00893692 -0.00899407\n",
            " -0.00892797 -0.00874106 -0.0084476  -0.00806777 -0.00762357 -0.0071362\n",
            " -0.00662457 -0.00610459 -0.00558908 -0.00508787 -0.00460812 -0.00415476\n",
            " -0.00373085 -0.00333797 -0.00297657 -0.00264622]\n",
            "22 day output [[-0.00234592]]\n",
            "23 day input [ 0.18239379  0.17708333  0.17810458  0.18055556  0.17810458  0.17851307\n",
            "  0.19607843  0.18913399  0.18954248  0.19403595  0.19444444  0.20200163\n",
            "  0.19771242  0.19934641  0.19873366  0.1997549   0.2128268   0.21568627\n",
            "  0.20445261  0.21772876  0.21098856  0.21425654  0.19750817  0.18811275\n",
            "  0.17851307  0.17381536  0.16033497  0.16564542  0.17116013  0.17422386\n",
            "  0.18035131  0.17401961  0.16278595  0.16973039  0.17810458  0.17034314\n",
            "  0.16830065  0.17279412  0.17544935  0.18382353  0.19138072  0.18913399\n",
            "  0.19097222  0.17238562  0.16830065  0.1693219   0.17177288  0.16156046\n",
            "  0.14971405  0.1503268   0.15196078  0.14726307  0.14501634  0.14603758\n",
            "  0.12479575  0.13112745  0.11397059  0.1190768   0.12377451  0.13562092\n",
            "  0.12908497  0.13459967  0.12806373  0.13031046  0.12724673  0.13521242\n",
            "  0.14522059  0.15257353  0.14848856  0.14338235  0.14562908  0.15236928\n",
            "  0.15400327  0.14971405  0.1621732   0.16319444  0.16584967 -0.00819633\n",
            " -0.00832449 -0.0085453  -0.0087731  -0.00893692 -0.00899407 -0.00892797\n",
            " -0.00874106 -0.0084476  -0.00806777 -0.00762357 -0.0071362  -0.00662457\n",
            " -0.00610459 -0.00558908 -0.00508787 -0.00460812 -0.00415476 -0.00373085\n",
            " -0.00333797 -0.00297657 -0.00264622 -0.00234592]\n",
            "23 day output [[-0.00207422]]\n",
            "24 day input [ 0.17708333  0.17810458  0.18055556  0.17810458  0.17851307  0.19607843\n",
            "  0.18913399  0.18954248  0.19403595  0.19444444  0.20200163  0.19771242\n",
            "  0.19934641  0.19873366  0.1997549   0.2128268   0.21568627  0.20445261\n",
            "  0.21772876  0.21098856  0.21425654  0.19750817  0.18811275  0.17851307\n",
            "  0.17381536  0.16033497  0.16564542  0.17116013  0.17422386  0.18035131\n",
            "  0.17401961  0.16278595  0.16973039  0.17810458  0.17034314  0.16830065\n",
            "  0.17279412  0.17544935  0.18382353  0.19138072  0.18913399  0.19097222\n",
            "  0.17238562  0.16830065  0.1693219   0.17177288  0.16156046  0.14971405\n",
            "  0.1503268   0.15196078  0.14726307  0.14501634  0.14603758  0.12479575\n",
            "  0.13112745  0.11397059  0.1190768   0.12377451  0.13562092  0.12908497\n",
            "  0.13459967  0.12806373  0.13031046  0.12724673  0.13521242  0.14522059\n",
            "  0.15257353  0.14848856  0.14338235  0.14562908  0.15236928  0.15400327\n",
            "  0.14971405  0.1621732   0.16319444  0.16584967 -0.00819633 -0.00832449\n",
            " -0.0085453  -0.0087731  -0.00893692 -0.00899407 -0.00892797 -0.00874106\n",
            " -0.0084476  -0.00806777 -0.00762357 -0.0071362  -0.00662457 -0.00610459\n",
            " -0.00558908 -0.00508787 -0.00460812 -0.00415476 -0.00373085 -0.00333797\n",
            " -0.00297657 -0.00264622 -0.00234592 -0.00207422]\n",
            "24 day output [[-0.00182941]]\n",
            "25 day input [ 0.17810458  0.18055556  0.17810458  0.17851307  0.19607843  0.18913399\n",
            "  0.18954248  0.19403595  0.19444444  0.20200163  0.19771242  0.19934641\n",
            "  0.19873366  0.1997549   0.2128268   0.21568627  0.20445261  0.21772876\n",
            "  0.21098856  0.21425654  0.19750817  0.18811275  0.17851307  0.17381536\n",
            "  0.16033497  0.16564542  0.17116013  0.17422386  0.18035131  0.17401961\n",
            "  0.16278595  0.16973039  0.17810458  0.17034314  0.16830065  0.17279412\n",
            "  0.17544935  0.18382353  0.19138072  0.18913399  0.19097222  0.17238562\n",
            "  0.16830065  0.1693219   0.17177288  0.16156046  0.14971405  0.1503268\n",
            "  0.15196078  0.14726307  0.14501634  0.14603758  0.12479575  0.13112745\n",
            "  0.11397059  0.1190768   0.12377451  0.13562092  0.12908497  0.13459967\n",
            "  0.12806373  0.13031046  0.12724673  0.13521242  0.14522059  0.15257353\n",
            "  0.14848856  0.14338235  0.14562908  0.15236928  0.15400327  0.14971405\n",
            "  0.1621732   0.16319444  0.16584967 -0.00819633 -0.00832449 -0.0085453\n",
            " -0.0087731  -0.00893692 -0.00899407 -0.00892797 -0.00874106 -0.0084476\n",
            " -0.00806777 -0.00762357 -0.0071362  -0.00662457 -0.00610459 -0.00558908\n",
            " -0.00508787 -0.00460812 -0.00415476 -0.00373085 -0.00333797 -0.00297657\n",
            " -0.00264622 -0.00234592 -0.00207422 -0.00182941]\n",
            "25 day output [[-0.00160964]]\n",
            "26 day input [ 0.18055556  0.17810458  0.17851307  0.19607843  0.18913399  0.18954248\n",
            "  0.19403595  0.19444444  0.20200163  0.19771242  0.19934641  0.19873366\n",
            "  0.1997549   0.2128268   0.21568627  0.20445261  0.21772876  0.21098856\n",
            "  0.21425654  0.19750817  0.18811275  0.17851307  0.17381536  0.16033497\n",
            "  0.16564542  0.17116013  0.17422386  0.18035131  0.17401961  0.16278595\n",
            "  0.16973039  0.17810458  0.17034314  0.16830065  0.17279412  0.17544935\n",
            "  0.18382353  0.19138072  0.18913399  0.19097222  0.17238562  0.16830065\n",
            "  0.1693219   0.17177288  0.16156046  0.14971405  0.1503268   0.15196078\n",
            "  0.14726307  0.14501634  0.14603758  0.12479575  0.13112745  0.11397059\n",
            "  0.1190768   0.12377451  0.13562092  0.12908497  0.13459967  0.12806373\n",
            "  0.13031046  0.12724673  0.13521242  0.14522059  0.15257353  0.14848856\n",
            "  0.14338235  0.14562908  0.15236928  0.15400327  0.14971405  0.1621732\n",
            "  0.16319444  0.16584967 -0.00819633 -0.00832449 -0.0085453  -0.0087731\n",
            " -0.00893692 -0.00899407 -0.00892797 -0.00874106 -0.0084476  -0.00806777\n",
            " -0.00762357 -0.0071362  -0.00662457 -0.00610459 -0.00558908 -0.00508787\n",
            " -0.00460812 -0.00415476 -0.00373085 -0.00333797 -0.00297657 -0.00264622\n",
            " -0.00234592 -0.00207422 -0.00182941 -0.00160964]\n",
            "26 day output [[-0.00141298]]\n",
            "27 day input [ 0.17810458  0.17851307  0.19607843  0.18913399  0.18954248  0.19403595\n",
            "  0.19444444  0.20200163  0.19771242  0.19934641  0.19873366  0.1997549\n",
            "  0.2128268   0.21568627  0.20445261  0.21772876  0.21098856  0.21425654\n",
            "  0.19750817  0.18811275  0.17851307  0.17381536  0.16033497  0.16564542\n",
            "  0.17116013  0.17422386  0.18035131  0.17401961  0.16278595  0.16973039\n",
            "  0.17810458  0.17034314  0.16830065  0.17279412  0.17544935  0.18382353\n",
            "  0.19138072  0.18913399  0.19097222  0.17238562  0.16830065  0.1693219\n",
            "  0.17177288  0.16156046  0.14971405  0.1503268   0.15196078  0.14726307\n",
            "  0.14501634  0.14603758  0.12479575  0.13112745  0.11397059  0.1190768\n",
            "  0.12377451  0.13562092  0.12908497  0.13459967  0.12806373  0.13031046\n",
            "  0.12724673  0.13521242  0.14522059  0.15257353  0.14848856  0.14338235\n",
            "  0.14562908  0.15236928  0.15400327  0.14971405  0.1621732   0.16319444\n",
            "  0.16584967 -0.00819633 -0.00832449 -0.0085453  -0.0087731  -0.00893692\n",
            " -0.00899407 -0.00892797 -0.00874106 -0.0084476  -0.00806777 -0.00762357\n",
            " -0.0071362  -0.00662457 -0.00610459 -0.00558908 -0.00508787 -0.00460812\n",
            " -0.00415476 -0.00373085 -0.00333797 -0.00297657 -0.00264622 -0.00234592\n",
            " -0.00207422 -0.00182941 -0.00160964 -0.00141298]\n",
            "27 day output [[-0.00123751]]\n",
            "28 day input [ 0.17851307  0.19607843  0.18913399  0.18954248  0.19403595  0.19444444\n",
            "  0.20200163  0.19771242  0.19934641  0.19873366  0.1997549   0.2128268\n",
            "  0.21568627  0.20445261  0.21772876  0.21098856  0.21425654  0.19750817\n",
            "  0.18811275  0.17851307  0.17381536  0.16033497  0.16564542  0.17116013\n",
            "  0.17422386  0.18035131  0.17401961  0.16278595  0.16973039  0.17810458\n",
            "  0.17034314  0.16830065  0.17279412  0.17544935  0.18382353  0.19138072\n",
            "  0.18913399  0.19097222  0.17238562  0.16830065  0.1693219   0.17177288\n",
            "  0.16156046  0.14971405  0.1503268   0.15196078  0.14726307  0.14501634\n",
            "  0.14603758  0.12479575  0.13112745  0.11397059  0.1190768   0.12377451\n",
            "  0.13562092  0.12908497  0.13459967  0.12806373  0.13031046  0.12724673\n",
            "  0.13521242  0.14522059  0.15257353  0.14848856  0.14338235  0.14562908\n",
            "  0.15236928  0.15400327  0.14971405  0.1621732   0.16319444  0.16584967\n",
            " -0.00819633 -0.00832449 -0.0085453  -0.0087731  -0.00893692 -0.00899407\n",
            " -0.00892797 -0.00874106 -0.0084476  -0.00806777 -0.00762357 -0.0071362\n",
            " -0.00662457 -0.00610459 -0.00558908 -0.00508787 -0.00460812 -0.00415476\n",
            " -0.00373085 -0.00333797 -0.00297657 -0.00264622 -0.00234592 -0.00207422\n",
            " -0.00182941 -0.00160964 -0.00141298 -0.00123751]\n",
            "28 day output [[-0.00108137]]\n",
            "29 day input [ 0.19607843  0.18913399  0.18954248  0.19403595  0.19444444  0.20200163\n",
            "  0.19771242  0.19934641  0.19873366  0.1997549   0.2128268   0.21568627\n",
            "  0.20445261  0.21772876  0.21098856  0.21425654  0.19750817  0.18811275\n",
            "  0.17851307  0.17381536  0.16033497  0.16564542  0.17116013  0.17422386\n",
            "  0.18035131  0.17401961  0.16278595  0.16973039  0.17810458  0.17034314\n",
            "  0.16830065  0.17279412  0.17544935  0.18382353  0.19138072  0.18913399\n",
            "  0.19097222  0.17238562  0.16830065  0.1693219   0.17177288  0.16156046\n",
            "  0.14971405  0.1503268   0.15196078  0.14726307  0.14501634  0.14603758\n",
            "  0.12479575  0.13112745  0.11397059  0.1190768   0.12377451  0.13562092\n",
            "  0.12908497  0.13459967  0.12806373  0.13031046  0.12724673  0.13521242\n",
            "  0.14522059  0.15257353  0.14848856  0.14338235  0.14562908  0.15236928\n",
            "  0.15400327  0.14971405  0.1621732   0.16319444  0.16584967 -0.00819633\n",
            " -0.00832449 -0.0085453  -0.0087731  -0.00893692 -0.00899407 -0.00892797\n",
            " -0.00874106 -0.0084476  -0.00806777 -0.00762357 -0.0071362  -0.00662457\n",
            " -0.00610459 -0.00558908 -0.00508787 -0.00460812 -0.00415476 -0.00373085\n",
            " -0.00333797 -0.00297657 -0.00264622 -0.00234592 -0.00207422 -0.00182941\n",
            " -0.00160964 -0.00141298 -0.00123751 -0.00108137]\n",
            "29 day output [[-0.00094277]]\n",
            "[[-0.008196331560611725], [-0.008324491791427135], [-0.00854529906064272], [-0.008773097768425941], [-0.008936920203268528], [-0.008994074538350105], [-0.008927972055971622], [-0.008741064928472042], [-0.008447602391242981], [-0.008067767135798931], [-0.00762356910854578], [-0.007136201951652765], [-0.00662456639111042], [-0.006104590836912394], [-0.005589081905782223], [-0.005087865050882101], [-0.004608119837939739], [-0.004154761787503958], [-0.0037308537866920233], [-0.0033379741944372654], [-0.0029765679500997066], [-0.002646224107593298], [-0.0023459228686988354], [-0.002074221149086952], [-0.0018294121837243438], [-0.0016096370527520776], [-0.0014129759510979056], [-0.0012375105870887637], [-0.0010813722619786859], [-0.000942771730478853]]\n"
          ]
        }
      ]
    },
    {
      "cell_type": "code",
      "source": [
        "day_new=np.arange(1,101)\n",
        "day_pred=np.arange(101,131)\n"
      ],
      "metadata": {
        "id": "jZ3XT2M6eMui"
      },
      "execution_count": null,
      "outputs": []
    },
    {
      "cell_type": "code",
      "source": [
        "df3=df2.tolist()\n",
        "df3.extend(lst_output)"
      ],
      "metadata": {
        "id": "kKapOPoHfWU_"
      },
      "execution_count": null,
      "outputs": []
    },
    {
      "cell_type": "code",
      "source": [
        "len(df2)"
      ],
      "metadata": {
        "colab": {
          "base_uri": "https://localhost:8080/"
        },
        "id": "jFoNqbYKeghh",
        "outputId": "8afdd5ba-081f-4cb2-8532-ede29253e126"
      },
      "execution_count": null,
      "outputs": [
        {
          "output_type": "execute_result",
          "data": {
            "text/plain": [
              "2035"
            ]
          },
          "metadata": {},
          "execution_count": 79
        }
      ]
    },
    {
      "cell_type": "code",
      "source": [
        "len(df2[1035:])"
      ],
      "metadata": {
        "colab": {
          "base_uri": "https://localhost:8080/"
        },
        "id": "1cZY0hbKf2dw",
        "outputId": "ba085686-6ad5-4117-ff5f-e440fe7de5d2"
      },
      "execution_count": null,
      "outputs": [
        {
          "output_type": "execute_result",
          "data": {
            "text/plain": [
              "1000"
            ]
          },
          "metadata": {},
          "execution_count": 89
        }
      ]
    },
    {
      "cell_type": "code",
      "source": [
        "plt.plot(day_new,scaler.inverse_transform(df2[1935:]))\n",
        "plt.plot(day_pred,scaler.inverse_transform(lst_output))"
      ],
      "metadata": {
        "colab": {
          "base_uri": "https://localhost:8080/",
          "height": 447
        },
        "id": "TifrYqereUc4",
        "outputId": "5bcab835-23c8-41ca-9039-07dda2a0bd5d"
      },
      "execution_count": null,
      "outputs": [
        {
          "output_type": "execute_result",
          "data": {
            "text/plain": [
              "[<matplotlib.lines.Line2D at 0x7f2711edeb30>]"
            ]
          },
          "metadata": {},
          "execution_count": 90
        },
        {
          "output_type": "display_data",
          "data": {
            "text/plain": [
              "<Figure size 640x480 with 1 Axes>"
            ],
            "image/png": "[encoded data removed]"
          },
          "metadata": {}
        }
      ]
    },
    {
      "cell_type": "code",
      "source": [
        "df3=df2.tolist()\n",
        "df3.extend(lst_output)\n",
        "plt.plot(df3[1300:])"
      ],
      "metadata": {
        "colab": {
          "base_uri": "https://localhost:8080/",
          "height": 447
        },
        "id": "LlANemCSgYpI",
        "outputId": "36e4b39f-989a-49ef-c071-d7ef275df25e"
      },
      "execution_count": null,
      "outputs": [
        {
          "output_type": "execute_result",
          "data": {
            "text/plain": [
              "[<matplotlib.lines.Line2D at 0x7f27037bad10>]"
            ]
          },
          "metadata": {},
          "execution_count": 92
        },
        {
          "output_type": "display_data",
          "data": {
            "text/plain": [
              "<Figure size 640x480 with 1 Axes>"
            ],
            "image/png": "[encoded data removed]"
          },
          "metadata": {}
        }
      ]
    },
    {
      "cell_type": "code",
      "source": [
        "df3=scaler.inverse_transform(df3).tolist()"
      ],
      "metadata": {
        "id": "psQkguREg1gZ"
      },
      "execution_count": null,
      "outputs": []
    },
    {
      "cell_type": "code",
      "source": [
        "plt.plot(df3)"
      ],
      "metadata": {
        "colab": {
          "base_uri": "https://localhost:8080/",
          "height": 447
        },
        "id": "rDVtmk0xg3A4",
        "outputId": "c8a290aa-ff7b-4e33-9383-45a141dae9a7"
      },
      "execution_count": null,
      "outputs": [
        {
          "output_type": "execute_result",
          "data": {
            "text/plain": [
              "[<matplotlib.lines.Line2D at 0x7f2711ebd2a0>]"
            ]
          },
          "metadata": {},
          "execution_count": 94
        },
        {
          "output_type": "display_data",
          "data": {
            "text/plain": [
              "<Figure size 640x480 with 1 Axes>"
            ],
            "image/png": "[encoded data removed]"
          },
          "metadata": {}
        }
      ]
    }
  ]
}